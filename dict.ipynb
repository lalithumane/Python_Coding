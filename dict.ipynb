{
 "cells": [
  {
   "cell_type": "code",
   "execution_count": 2,
   "metadata": {},
   "outputs": [],
   "source": [
    "dog1 = {}\n",
    "dog2 = dict()"
   ]
  },
  {
   "cell_type": "code",
   "execution_count": 3,
   "metadata": {},
   "outputs": [],
   "source": [
    "dog1['Name'] = 'Bruno'"
   ]
  },
  {
   "cell_type": "code",
   "execution_count": 4,
   "metadata": {},
   "outputs": [
    {
     "name": "stdout",
     "output_type": "stream",
     "text": [
      "{'Name': 'Bruno'}\n"
     ]
    }
   ],
   "source": [
    "print(dog1)"
   ]
  },
  {
   "cell_type": "code",
   "execution_count": 5,
   "metadata": {},
   "outputs": [],
   "source": [
    "dog1['colour'] = 'black'"
   ]
  },
  {
   "cell_type": "code",
   "execution_count": 6,
   "metadata": {},
   "outputs": [
    {
     "name": "stdout",
     "output_type": "stream",
     "text": [
      "{'Name': 'Bruno', 'colour': 'black'}\n"
     ]
    }
   ],
   "source": [
    "print(dog1)"
   ]
  },
  {
   "cell_type": "code",
   "execution_count": 7,
   "metadata": {},
   "outputs": [],
   "source": [
    "student = dict()"
   ]
  },
  {
   "cell_type": "code",
   "execution_count": 8,
   "metadata": {},
   "outputs": [],
   "source": [
    "student['first_name'] = 'suraj'\n",
    "student['last_name'] = 'saudagare'\n",
    "student['gender']= 'male'\n",
    "student['age']  = 29\n",
    "student['marital_status'] = 'Unmarried'\n",
    "student['skill'] = ['sql','python','powerbi','excel','autocad']\n",
    "student['country'] = 'India'\n",
    "student['city'] = 'Amravati'"
   ]
  },
  {
   "cell_type": "code",
   "execution_count": 9,
   "metadata": {},
   "outputs": [
    {
     "name": "stdout",
     "output_type": "stream",
     "text": [
      "{'first_name': 'suraj', 'last_name': 'saudagare', 'gender': 'male', 'age': 29, 'marital_status': 'Unmarried', 'skill': ['sql', 'python', 'powerbi', 'excel', 'autocad'], 'country': 'India', 'city': 'Amravati'}\n"
     ]
    }
   ],
   "source": [
    "print(student)"
   ]
  },
  {
   "cell_type": "code",
   "execution_count": 10,
   "metadata": {},
   "outputs": [],
   "source": [
    "student['address'] = 'Adarsh Nehru Nagar,\\n Congress Nagar Road,\\n Amravati PIN 444 606'"
   ]
  },
  {
   "cell_type": "code",
   "execution_count": 11,
   "metadata": {},
   "outputs": [
    {
     "name": "stdout",
     "output_type": "stream",
     "text": [
      "{'first_name': 'suraj', 'last_name': 'saudagare', 'gender': 'male', 'age': 29, 'marital_status': 'Unmarried', 'skill': ['sql', 'python', 'powerbi', 'excel', 'autocad'], 'country': 'India', 'city': 'Amravati', 'address': 'Adarsh Nehru Nagar,\\n Congress Nagar Road,\\n Amravati PIN 444 606'}\n"
     ]
    }
   ],
   "source": [
    "print(student)"
   ]
  },
  {
   "cell_type": "code",
   "execution_count": 12,
   "metadata": {},
   "outputs": [],
   "source": [
    "student['address'] = ' Near jagtap petrol pimp hamalpura amravati'"
   ]
  },
  {
   "cell_type": "code",
   "execution_count": 13,
   "metadata": {},
   "outputs": [
    {
     "name": "stdout",
     "output_type": "stream",
     "text": [
      "{'first_name': 'suraj', 'last_name': 'saudagare', 'gender': 'male', 'age': 29, 'marital_status': 'Unmarried', 'skill': ['sql', 'python', 'powerbi', 'excel', 'autocad'], 'country': 'India', 'city': 'Amravati', 'address': ' Near jagtap petrol pimp hamalpura amravati'}\n"
     ]
    }
   ],
   "source": [
    "print(student)"
   ]
  },
  {
   "cell_type": "code",
   "execution_count": 14,
   "metadata": {},
   "outputs": [
    {
     "name": "stdout",
     "output_type": "stream",
     "text": [
      "9\n"
     ]
    }
   ],
   "source": [
    "print(len(student))"
   ]
  },
  {
   "cell_type": "code",
   "execution_count": 15,
   "metadata": {},
   "outputs": [
    {
     "name": "stdout",
     "output_type": "stream",
     "text": [
      "['sql', 'python', 'powerbi', 'excel', 'autocad']\n"
     ]
    }
   ],
   "source": [
    "print(student['skill'])"
   ]
  },
  {
   "cell_type": "code",
   "execution_count": 16,
   "metadata": {},
   "outputs": [
    {
     "name": "stdout",
     "output_type": "stream",
     "text": [
      "<class 'list'>\n"
     ]
    }
   ],
   "source": [
    "print(type(student['skill']))"
   ]
  },
  {
   "cell_type": "code",
   "execution_count": 17,
   "metadata": {},
   "outputs": [],
   "source": [
    "student['skill'].append('DSA')"
   ]
  },
  {
   "cell_type": "code",
   "execution_count": 18,
   "metadata": {},
   "outputs": [
    {
     "data": {
      "text/plain": [
       "['sql', 'python', 'powerbi', 'excel', 'autocad', 'DSA']"
      ]
     },
     "execution_count": 18,
     "metadata": {},
     "output_type": "execute_result"
    }
   ],
   "source": [
    "student['skill']"
   ]
  },
  {
   "cell_type": "code",
   "execution_count": 19,
   "metadata": {},
   "outputs": [
    {
     "data": {
      "text/plain": [
       "dict_keys(['first_name', 'last_name', 'gender', 'age', 'marital_status', 'skill', 'country', 'city', 'address'])"
      ]
     },
     "execution_count": 19,
     "metadata": {},
     "output_type": "execute_result"
    }
   ],
   "source": [
    "student.keys()"
   ]
  },
  {
   "cell_type": "code",
   "execution_count": 20,
   "metadata": {},
   "outputs": [
    {
     "data": {
      "text/plain": [
       "dict_values(['suraj', 'saudagare', 'male', 29, 'Unmarried', ['sql', 'python', 'powerbi', 'excel', 'autocad', 'DSA'], 'India', 'Amravati', ' Near jagtap petrol pimp hamalpura amravati'])"
      ]
     },
     "execution_count": 20,
     "metadata": {},
     "output_type": "execute_result"
    }
   ],
   "source": [
    "student.values()"
   ]
  },
  {
   "cell_type": "code",
   "execution_count": 21,
   "metadata": {},
   "outputs": [
    {
     "data": {
      "text/plain": [
       "dict_items([('first_name', 'suraj'), ('last_name', 'saudagare'), ('gender', 'male'), ('age', 29), ('marital_status', 'Unmarried'), ('skill', ['sql', 'python', 'powerbi', 'excel', 'autocad', 'DSA']), ('country', 'India'), ('city', 'Amravati'), ('address', ' Near jagtap petrol pimp hamalpura amravati')])"
      ]
     },
     "execution_count": 21,
     "metadata": {},
     "output_type": "execute_result"
    }
   ],
   "source": [
    "student.items()"
   ]
  },
  {
   "cell_type": "code",
   "execution_count": 22,
   "metadata": {},
   "outputs": [],
   "source": [
    "del student['marital_status']"
   ]
  },
  {
   "cell_type": "code",
   "execution_count": 23,
   "metadata": {},
   "outputs": [
    {
     "name": "stdout",
     "output_type": "stream",
     "text": [
      "{'first_name': 'suraj', 'last_name': 'saudagare', 'gender': 'male', 'age': 29, 'skill': ['sql', 'python', 'powerbi', 'excel', 'autocad', 'DSA'], 'country': 'India', 'city': 'Amravati', 'address': ' Near jagtap petrol pimp hamalpura amravati'}\n"
     ]
    }
   ],
   "source": [
    "print(student)"
   ]
  },
  {
   "cell_type": "code",
   "execution_count": 24,
   "metadata": {},
   "outputs": [
    {
     "data": {
      "text/plain": [
       "29"
      ]
     },
     "execution_count": 24,
     "metadata": {},
     "output_type": "execute_result"
    }
   ],
   "source": [
    "student.pop('age')"
   ]
  },
  {
   "cell_type": "code",
   "execution_count": 25,
   "metadata": {},
   "outputs": [
    {
     "data": {
      "text/plain": [
       "('address', ' Near jagtap petrol pimp hamalpura amravati')"
      ]
     },
     "execution_count": 25,
     "metadata": {},
     "output_type": "execute_result"
    }
   ],
   "source": [
    "student.popitem()"
   ]
  }
 ],
 "metadata": {
  "kernelspec": {
   "display_name": "Python 3.10.0 64-bit",
   "language": "python",
   "name": "python3"
  },
  "language_info": {
   "codemirror_mode": {
    "name": "ipython",
    "version": 3
   },
   "file_extension": ".py",
   "mimetype": "text/x-python",
   "name": "python",
   "nbconvert_exporter": "python",
   "pygments_lexer": "ipython3",
   "version": "3.10.0"
  },
  "orig_nbformat": 4,
  "vscode": {
   "interpreter": {
    "hash": "1ca47866375c9e8efc6c4ea03302cd4c4c5daf7f0e220f0f32c5df8d3c27cecb"
   }
  }
 },
 "nbformat": 4,
 "nbformat_minor": 2
}
