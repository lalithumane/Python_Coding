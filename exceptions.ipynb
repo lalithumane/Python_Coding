{
 "cells": [
  {
   "cell_type": "markdown",
   "metadata": {},
   "source": [
    "# Exceptions\n",
    "## try\n",
    "## except____else  \n",
    "## finally"
   ]
  },
  {
   "cell_type": "code",
   "execution_count": 1,
   "metadata": {},
   "outputs": [
    {
     "name": "stdout",
     "output_type": "stream",
     "text": [
      "Learning exceptions in python\n"
     ]
    }
   ],
   "source": [
    "try:\n",
    "    print(10 + \"5\")\n",
    "except:\n",
    "    print(\"Learning exceptions in python\")"
   ]
  },
  {
   "cell_type": "code",
   "execution_count": 3,
   "metadata": {},
   "outputs": [
    {
     "name": "stdout",
     "output_type": "stream",
     "text": [
      "understanding something\n"
     ]
    }
   ],
   "source": [
    "try:                                              # try block run a original code\n",
    "    name1 = input(\"Enter your name here :\")\n",
    "    year_born = input(\"Enter your birth year\")\n",
    "    age = 2022 - year_born\n",
    "    print(\"your name is {} and your age is {}\".format(name1,age))\n",
    "except:                                           # if code get failed then except code run \n",
    "    print(\"understanding something\")\n"
   ]
  },
  {
   "cell_type": "code",
   "execution_count": 4,
   "metadata": {},
   "outputs": [
    {
     "name": "stdout",
     "output_type": "stream",
     "text": [
      "TypeError has been raised\n"
     ]
    }
   ],
   "source": [
    "try:\n",
    "    name1 = input(\"Enter your name here:\")\n",
    "    year_born = input(\"Enter your birth year here:\")\n",
    "    age = 2022 - year_born\n",
    "    print(\"your name is {} and your age is {}\".format(name1,age))\n",
    "except TypeError:                               # we can also check for an Error raised by system \n",
    "    print(\"TypeError has been raised\")\n",
    "except SyntaxError:\n",
    "    print(\"SyntaxError has been raised\")\n",
    "except ZeroDivisionError:\n",
    "    print(\"ZeroDivisionError has been Raised\")\n",
    "except ValueError:\n",
    "    print(\"ValueError has been rased\")\n",
    "\n",
    "    "
   ]
  },
  {
   "cell_type": "code",
   "execution_count": 7,
   "metadata": {},
   "outputs": [
    {
     "name": "stdout",
     "output_type": "stream",
     "text": [
      "Type Error has been raised\n",
      "it is easy to learn exceptions this way , by practicing it\n"
     ]
    }
   ],
   "source": [
    "try:\n",
    "    name1 = input(\"Enter your name here:\")\n",
    "    year_born = input(\"Enter your birth year here\")\n",
    "    age = 2022 - year_born\n",
    "    print(\"your name is {} and age is {}\".format(name1,age))\n",
    "except ValueError:\n",
    "    print(\"ValueError has been raised\")\n",
    "except TypeError:\n",
    "    print(\"Type Error has been raised\")\n",
    "except KeyError:\n",
    "    print(\"KeyError hass been raised\")\n",
    "except ZeroDivisionError:\n",
    "    print(\"ZeroDivisionError has been raised\")\n",
    "else:\n",
    "    print(\"it always works with try block\")\n",
    "finally:                                           # finally block always runs weather it found error or not \n",
    "    print(\"it is easy to learn exceptions this way , by practicing it\")"
   ]
  },
  {
   "cell_type": "code",
   "execution_count": 8,
   "metadata": {},
   "outputs": [
    {
     "name": "stdout",
     "output_type": "stream",
     "text": [
      "unsupported operand type(s) for -: 'int' and 'str'\n"
     ]
    }
   ],
   "source": [
    "try:\n",
    "    name1 = input(\"Enter your name here:\")\n",
    "    year_born = input(\"Enter your birth year here:\")\n",
    "    age = 2022 - year_born\n",
    "    print(\"your name is {} and age is {}\".format(name1,age))\n",
    "except Exception as e:                  # we can give Exception in except block to pring exception\n",
    "    print(e)\n"
   ]
  },
  {
   "cell_type": "code",
   "execution_count": 9,
   "metadata": {},
   "outputs": [
    {
     "ename": "TypeError",
     "evalue": "print_numbers() missing 4 required positional arguments: 'b', 'c', 'd', and 'e'",
     "output_type": "error",
     "traceback": [
      "\u001b[1;31m---------------------------------------------------------------------------\u001b[0m",
      "\u001b[1;31mTypeError\u001b[0m                                 Traceback (most recent call last)",
      "\u001b[1;32ml:\\Lalit\\DS\\Data_Scientist_1\\complete_coding and libraries\\30_days_challange\\exceptions.ipynb Cell 7\u001b[0m in \u001b[0;36m<cell line: 5>\u001b[1;34m()\u001b[0m\n\u001b[0;32m      <a href='vscode-notebook-cell:/l%3A/Lalit/DS/Data_Scientist_1/complete_coding%20and%20libraries/30_days_challange/exceptions.ipynb#W6sZmlsZQ%3D%3D?line=1'>2</a>\u001b[0m     \u001b[39mreturn\u001b[39;00m a\u001b[39m+\u001b[39mb\u001b[39m+\u001b[39mc\u001b[39m+\u001b[39md\u001b[39m+\u001b[39me\n\u001b[0;32m      <a href='vscode-notebook-cell:/l%3A/Lalit/DS/Data_Scientist_1/complete_coding%20and%20libraries/30_days_challange/exceptions.ipynb#W6sZmlsZQ%3D%3D?line=3'>4</a>\u001b[0m lst \u001b[39m=\u001b[39m [\u001b[39m1\u001b[39m,\u001b[39m2\u001b[39m,\u001b[39m3\u001b[39m,\u001b[39m4\u001b[39m,\u001b[39m5\u001b[39m]\n\u001b[1;32m----> <a href='vscode-notebook-cell:/l%3A/Lalit/DS/Data_Scientist_1/complete_coding%20and%20libraries/30_days_challange/exceptions.ipynb#W6sZmlsZQ%3D%3D?line=4'>5</a>\u001b[0m print_numbers(lst)\n",
      "\u001b[1;31mTypeError\u001b[0m: print_numbers() missing 4 required positional arguments: 'b', 'c', 'd', and 'e'"
     ]
    }
   ],
   "source": [
    "\n",
    "def print_numbers(a,b,c,d,e):\n",
    "    return a+b+c+d+e\n",
    "\n",
    "lst = [1,2,3,4,5]\n",
    "print_numbers(lst)"
   ]
  },
  {
   "cell_type": "code",
   "execution_count": 11,
   "metadata": {},
   "outputs": [
    {
     "name": "stdout",
     "output_type": "stream",
     "text": [
      "15\n"
     ]
    }
   ],
   "source": [
    "def print_numbers1(a,b,c,d,e):\n",
    "    return a+b+c+d+e\n",
    "\n",
    "lst = [1,2,3,4,5]\n",
    "result = print_numbers1(*lst)\n",
    "print(result)"
   ]
  },
  {
   "cell_type": "code",
   "execution_count": 15,
   "metadata": {},
   "outputs": [
    {
     "name": "stdout",
     "output_type": "stream",
     "text": [
      "[1, 2, 3, 4, 5, 6]\n",
      "range(1, 7)\n"
     ]
    }
   ],
   "source": [
    "num1 = range(1,7)\n",
    "print(list(num1))\n",
    "\n",
    "num2 = [1,7]\n",
    "number = range(*num2)\n",
    "print(number)"
   ]
  },
  {
   "cell_type": "code",
   "execution_count": 16,
   "metadata": {},
   "outputs": [
    {
     "name": "stdout",
     "output_type": "stream",
     "text": [
      "[2, 3, 4, 5, 6]\n",
      "range(2, 7)\n"
     ]
    }
   ],
   "source": [
    "numbers = range(2, 7)  # normal call with separate arguments\n",
    "print(list(numbers)) # [2, 3, 4, 5, 6]\n",
    "args = [2, 7]\n",
    "numbers = range(*args)  # call with arguments unpacked from a list\n",
    "print(numbers)      # [2, 3, 4, 5,6]\n"
   ]
  },
  {
   "cell_type": "code",
   "execution_count": 17,
   "metadata": {},
   "outputs": [
    {
     "name": "stdout",
     "output_type": "stream",
     "text": [
      "Amravati Buldhana Akola ['Nagpur', 'Morshi']\n"
     ]
    }
   ],
   "source": [
    "lst = [\"Amravati\",\"Buldhana\",\"Akola\",\"Nagpur\",\"Morshi\"]       # packing and unpacking with * , we can work by this method in list or tuple \n",
    "am,bu,ak,*rest = lst\n",
    "print(am,bu,ak,rest)"
   ]
  },
  {
   "cell_type": "code",
   "execution_count": 18,
   "metadata": {},
   "outputs": [
    {
     "name": "stdout",
     "output_type": "stream",
     "text": [
      "1 [2, 3, 4, 5, 6, 7, 8] 9\n"
     ]
    }
   ],
   "source": [
    "numbers = [1,2,3,4,5,6,7,8,9]        # packing and unpacking is possible with numbers also \n",
    "one,*middle,last = numbers\n",
    "print(one,middle,last)"
   ]
  },
  {
   "cell_type": "code",
   "execution_count": 21,
   "metadata": {},
   "outputs": [
    {
     "name": "stdout",
     "output_type": "stream",
     "text": [
      "my name is Lalit and i am from INDIA , my age is 29 and i live in Amravati\n"
     ]
    }
   ],
   "source": [
    "def unpacking_with_dictionary(name,country,age,city):\n",
    "    return f'my name is {name} and i am from {country} , my age is {age} and i live in {city}'     # this is another way to format a string\n",
    "\n",
    "dic = {\"name\":\"Lalit\",\"country\":\"INDIA\",\"age\":29,\"city\":\"Amravati\"}\n",
    "result = unpacking_with_dictionary(**dic)          ## to unpack a dictionary we have to put 2** while giving an argument \n",
    "print(result)"
   ]
  },
  {
   "cell_type": "markdown",
   "metadata": {},
   "source": [
    "# Packing and Unpacking Arguments in Python\n",
    "# We use two operators:\n",
    "\n",
    "# * for tuples\n",
    "# ** for dictionaries\n",
    "## Let us take as an example below. It takes only arguments but we have list. We can unpack the list and changes to argument."
   ]
  },
  {
   "cell_type": "code",
   "execution_count": 24,
   "metadata": {},
   "outputs": [
    {
     "name": "stdout",
     "output_type": "stream",
     "text": [
      "45\n"
     ]
    }
   ],
   "source": [
    "def sum(*nums):                        # this is how we can pack multiple values in a function\n",
    "    num = 0                            # packing in a list\n",
    "    for i in nums:                      \n",
    "        num = num + i\n",
    "    print(num)\n",
    "\n",
    "sum(1,2,3,4,5,6,7,8,9)"
   ]
  },
  {
   "cell_type": "code",
   "execution_count": 27,
   "metadata": {},
   "outputs": [
    {
     "name": "stdout",
     "output_type": "stream",
     "text": [
      "name = Lalit\n",
      "country = India\n",
      "city = Amravati\n",
      "age = 29\n",
      "{'name': 'Lalit', 'country': 'India', 'city': 'Amravati', 'age': 29}\n"
     ]
    }
   ],
   "source": [
    "def packing_person_info(**kwargs):\n",
    "    # check the type of kwargs and it is a dict type\n",
    "    # print(type(kwargs))\n",
    "\t# Printing dictionary items\n",
    "    for key in kwargs:\n",
    "        print(f\"{key} = {kwargs[key]}\")\n",
    "    return kwargs\n",
    "\n",
    "print(packing_person_info(name=\"Lalit\",\n",
    "      country=\"India\", city=\"Amravati\", age=29))"
   ]
  },
  {
   "cell_type": "markdown",
   "metadata": {},
   "source": [
    "# Spreading in Python\n",
    "## Like in JavaScript, spreading is possible in Python. Let us check it in an example below:"
   ]
  },
  {
   "cell_type": "code",
   "execution_count": 29,
   "metadata": {},
   "outputs": [
    {
     "name": "stdout",
     "output_type": "stream",
     "text": [
      "[0, 1, 2, 3, 4, 5, 6, 7, 8, 9, 10]\n",
      "('Amravati', 'Akola', 'Nagpur', 'Buldhana', 'Morshi')\n"
     ]
    }
   ],
   "source": [
    "num1 = [1,2,3,4,5]\n",
    "num2 = [6,7,8,9,10]              \n",
    "num3 = [0, *num1 , *num2 ]            # this method is called as a Spreading method , very usefull method to concatenate a list\n",
    "print(num3)\n",
    "\n",
    "city1 = [\"Amravati\",\"Akola\"]\n",
    "city2 = [\"Nagpur\",\"Buldhana\",\"Morshi\"]           # it can also work with string\n",
    "vidarbh = *city1 , *city2\n",
    "print(vidarbh)"
   ]
  },
  {
   "cell_type": "markdown",
   "metadata": {},
   "source": [
    "# Enumerate\n",
    "# If we are interested in an index of a list, we use enumerate built-in function to get the index of each item in the list."
   ]
  },
  {
   "cell_type": "code",
   "execution_count": 30,
   "metadata": {},
   "outputs": [
    {
     "name": "stdout",
     "output_type": "stream",
     "text": [
      "0 20\n",
      "1 30\n",
      "2 40\n"
     ]
    }
   ],
   "source": [
    "for index, item in enumerate([20, 30, 40]):           # enumerate function gives an index value per element \n",
    "    print(index, item)"
   ]
  },
  {
   "cell_type": "code",
   "execution_count": 32,
   "metadata": {},
   "outputs": [],
   "source": [
    "countries = [\n",
    "  'Afghanistan',\n",
    "  'Albania',\n",
    "  'Algeria',\n",
    "  'Andorra',\n",
    "  'Angola',\n",
    "  'Antigua and Barbuda',\n",
    "  'Argentina',\n",
    "  'Armenia',\n",
    "  'Australia',\n",
    "  'Austria',\n",
    "  'Azerbaijan',\n",
    "  'Bahamas',\n",
    "  'Bahrain',\n",
    "  'Bangladesh',\n",
    "  'Barbados',\n",
    "  'Belarus',\n",
    "  'Belgium',\n",
    "  'Belize',\n",
    "  'Benin',\n",
    "  'Bhutan',\n",
    "  'Bolivia',\n",
    "  'Bosnia and Herzegovina',\n",
    "  'Botswana',\n",
    "  'Brazil',\n",
    "  'Brunei',\n",
    "  'Bulgaria',\n",
    "  'Burkina Faso',\n",
    "  'Burundi',\n",
    "  'Cambodia',\n",
    "  'Cameroon',\n",
    "  'Canada',\n",
    "  'Cape Verde',\n",
    "  'Central African Republic',\n",
    "  'Chad',\n",
    "  'Chile',\n",
    "  'China',\n",
    "  'Colombi',\n",
    "  'Comoros',\n",
    "  'Congo (Brazzaville)',\n",
    "  'Congo',\n",
    "  'Costa Rica',\n",
    "  \"Cote d'Ivoire\",\n",
    "  'Croatia',\n",
    "  'Cuba',\n",
    "  'Cyprus',\n",
    "  'Czech Republic',\n",
    "  'Denmark',\n",
    "  'Djibouti',\n",
    "  'Dominica',\n",
    "  'Dominican Republic',\n",
    "  'East Timor (Timor Timur)',\n",
    "  'Ecuador',\n",
    "  'Egypt',\n",
    "  'El Salvador',\n",
    "  'Equatorial Guinea',\n",
    "  'Eritrea',\n",
    "  'Estonia',\n",
    "  'Ethiopia',\n",
    "  'Fiji',\n",
    "  'Finland',\n",
    "  'France',\n",
    "  'Gabon',\n",
    "  'Gambia, The',\n",
    "  'Georgia',\n",
    "  'Germany',\n",
    "  'Ghana',\n",
    "  'Greece',\n",
    "  'Grenada',\n",
    "  'Guatemala',\n",
    "  'Guinea',\n",
    "  'Guinea-Bissau',\n",
    "  'Guyana',\n",
    "  'Haiti',\n",
    "  'Honduras',\n",
    "  'Hungary',\n",
    "  'Iceland',\n",
    "  'India',\n",
    "  'Indonesia',\n",
    "  'Iran',\n",
    "  'Iraq',\n",
    "  'Ireland',\n",
    "  'Israel',\n",
    "  'Italy',\n",
    "  'Jamaica',\n",
    "  'Japan',\n",
    "  'Jordan',\n",
    "  'Kazakhstan',\n",
    "  'Kenya',\n",
    "  'Kiribati',\n",
    "  'Korea, North',\n",
    "  'Korea, South',\n",
    "  'Kuwait',\n",
    "  'Kyrgyzstan',\n",
    "  'Laos',\n",
    "  'Latvia',\n",
    "  'Lebanon',\n",
    "  'Lesotho',\n",
    "  'Liberia',\n",
    "  'Libya',\n",
    "  'Liechtenstein',\n",
    "  'Lithuania',\n",
    "  'Luxembourg',\n",
    "  'Macedonia',\n",
    "  'Madagascar',\n",
    "  'Malawi',\n",
    "  'Malaysia',\n",
    "  'Maldives',\n",
    "  'Mali',\n",
    "  'Malta',\n",
    "  'Marshall Islands',\n",
    "  'Mauritania',\n",
    "  'Mauritius',\n",
    "  'Mexico',\n",
    "  'Micronesia',\n",
    "  'Moldova',\n",
    "  'Monaco',\n",
    "  'Mongolia',\n",
    "  'Morocco',\n",
    "  'Mozambique',\n",
    "  'Myanmar',\n",
    "  'Namibia',\n",
    "  'Nauru',\n",
    "  'Nepal',\n",
    "  'Netherlands',\n",
    "  'New Zealand',\n",
    "  'Nicaragua',\n",
    "  'Niger',\n",
    "  'Nigeria',\n",
    "  'Norway',\n",
    "  'Oman',\n",
    "  'Pakistan',\n",
    "  'Palau',\n",
    "  'Panama',\n",
    "  'Papua New Guinea',\n",
    "  'Paraguay',\n",
    "  'Peru',\n",
    "  'Philippines',\n",
    "  'Poland',\n",
    "  'Portugal',\n",
    "  'Qatar',\n",
    "  'Romania',\n",
    "  'Russia',\n",
    "  'Rwanda',\n",
    "  'Saint Kitts and Nevis',\n",
    "  'Saint Lucia',\n",
    "  'Saint Vincent',\n",
    "  'Samoa',\n",
    "  'San Marino',\n",
    "  'Sao Tome and Principe',\n",
    "  'Saudi Arabia',\n",
    "  'Senegal',\n",
    "  'Serbia and Montenegro',\n",
    "  'Seychelles',\n",
    "  'Sierra Leone',\n",
    "  'Singapore',\n",
    "  'Slovakia',\n",
    "  'Slovenia',\n",
    "  'Solomon Islands',\n",
    "  'Somalia',\n",
    "  'South Africa',\n",
    "  'Spain',\n",
    "  'Sri Lanka',\n",
    "  'Sudan',\n",
    "  'Suriname',\n",
    "  'Swaziland',\n",
    "  'Sweden',\n",
    "  'Switzerland',\n",
    "  'Syria',\n",
    "  'Taiwan',\n",
    "  'Tajikistan',\n",
    "  'Tanzania',\n",
    "  'Thailand',\n",
    "  'Togo',\n",
    "  'Tonga',\n",
    "  'Trinidad and Tobago',\n",
    "  'Tunisia',\n",
    "  'Turkey',\n",
    "  'Turkmenistan',\n",
    "  'Tuvalu',\n",
    "  'Uganda',\n",
    "  'Ukraine',\n",
    "  'United Arab Emirates',\n",
    "  'United Kingdom',\n",
    "  'United States',\n",
    "  'Uruguay',\n",
    "  'Uzbekistan',\n",
    "  'Vanuatu',\n",
    "  'Vatican City',\n",
    "  'Venezuela',\n",
    "  'Vietnam',\n",
    "  'Yemen',\n",
    "  'Zambia',\n",
    "  'Zimbabwe',\n",
    "]"
   ]
  },
  {
   "cell_type": "code",
   "execution_count": 37,
   "metadata": {},
   "outputs": [
    {
     "name": "stdout",
     "output_type": "stream",
     "text": [
      "hi hi hi hi hi hi hi hi hi hi hi hi hi hi hi hi hi hi hi hi hi hi hi hi hi hi hi hi hi hi hi hi hi hi hi hi hi hi hi hi hi hi hi hi hi hi hi hi hi hi hi hi hi hi hi hi hi hi hi hi The country Finland has been found at index 59\n",
      "hi hi hi hi hi hi hi hi hi hi hi hi hi hi hi hi hi hi hi hi hi hi hi hi hi hi hi hi hi hi hi hi hi hi hi hi hi hi hi hi hi hi hi hi hi hi hi hi hi hi hi hi hi hi hi hi hi hi hi hi hi hi hi hi hi hi hi hi hi hi hi hi hi hi hi hi hi hi hi hi hi hi hi hi hi hi hi hi hi hi hi hi hi hi hi hi hi hi hi hi hi hi hi hi hi hi hi hi hi hi hi hi hi hi hi hi hi hi hi hi hi hi hi hi hi hi hi hi hi hi hi hi hi "
     ]
    }
   ],
   "source": [
    "for index, i in enumerate(countries):\n",
    "    print('hi',end = \" \")\n",
    "    if i == 'Finland':\n",
    "        print(f'The country {i} has been found at index {index}')"
   ]
  },
  {
   "cell_type": "code",
   "execution_count": 1,
   "metadata": {},
   "outputs": [
    {
     "name": "stdout",
     "output_type": "stream",
     "text": [
      "[{'fruit': 'banana', 'veg': 'Tomato'}, {'fruit': 'orange', 'veg': 'Potato'}, {'fruit': 'mango', 'veg': 'Cabbage'}, {'fruit': 'lemon', 'veg': 'Onion'}, {'fruit': 'lime', 'veg': 'Carrot'}]\n"
     ]
    }
   ],
   "source": [
    "fruits = ['banana', 'orange', 'mango', 'lemon', 'lime']                    \n",
    "vegetables = ['Tomato', 'Potato', 'Cabbage','Onion', 'Carrot']\n",
    "fruits_and_veges = []\n",
    "for f, v in zip(fruits, vegetables):\n",
    "    fruits_and_veges.append({'fruit':f, 'veg':v})\n",
    "\n",
    "print(fruits_and_veges)"
   ]
  },
  {
   "cell_type": "code",
   "execution_count": 3,
   "metadata": {},
   "outputs": [
    {
     "name": "stdout",
     "output_type": "stream",
     "text": [
      "[{'Fruit': 'banana', 'Veg': 'Tomato'}, {'Fruit': 'orange', 'Veg': 'Potato'}, {'Fruit': 'mango', 'Veg': 'Cabbage'}, {'Fruit': 'lemon', 'Veg': 'Onion'}, {'Fruit': 'lime', 'Veg': 'Carrot'}]\n"
     ]
    }
   ],
   "source": [
    "fruits = ['banana', 'orange', 'mango', 'lemon', 'lime']                    \n",
    "vegetables = ['Tomato', 'Potato', 'Cabbage','Onion', 'Carrot']\n",
    "fruits_vegies = []\n",
    "for f,v in zip(fruits,vegetables):\n",
    "    fruits_vegies.append({\"Fruit\":f, \"Veg\":v})\n",
    "\n",
    "print(fruits_vegies)"
   ]
  },
  {
   "cell_type": "code",
   "execution_count": 4,
   "metadata": {},
   "outputs": [
    {
     "name": "stdout",
     "output_type": "stream",
     "text": [
      "[{'Name': 'Lalit', 'Surname': 'Humane'}, {'Name': 'Swapnil', 'Surname': 'Shende'}, {'Name': 'Nilesh', 'Surname': 'Sable'}, {'Name': 'Suraj', 'Surname': 'Saudagare'}]\n"
     ]
    }
   ],
   "source": [
    "name = [\"Lalit\",\"Swapnil\",\"Nilesh\",\"Suraj\"]\n",
    "surname = [\"Humane\",\"Shende\",\"Sable\",\"Saudagare\"]\n",
    "full_name = []\n",
    "for n,s in zip(name,surname):\n",
    "    full_name.append({\"Name\":n,\"Surname\":s})\n",
    "\n",
    "\n",
    "print(full_name)"
   ]
  },
  {
   "cell_type": "code",
   "execution_count": 8,
   "metadata": {},
   "outputs": [
    {
     "name": "stdout",
     "output_type": "stream",
     "text": [
      "Nordic Countries :- ['Finland', 'Sweden', 'Norway', 'Denmark', 'Iceland'] Estonia :- Estonia Russia :- Russia\n"
     ]
    }
   ],
   "source": [
    "# Unpack the first five countries and store them in a variable nordic_countries, store Estonia and Russia in es, and ru respectively.\n",
    "\n",
    "names = ['Finland', 'Sweden', 'Norway','Denmark','Iceland', 'Estonia','Russia']\n",
    "*nordic_countries,es,ru = names\n",
    "print(\"Nordic Countries :-\",nordic_countries,\"Estonia :-\",es,\"Russia :-\",ru)"
   ]
  },
  {
   "cell_type": "code",
   "execution_count": null,
   "metadata": {},
   "outputs": [],
   "source": []
  }
 ],
 "metadata": {
  "kernelspec": {
   "display_name": "Python 3.10.0 64-bit",
   "language": "python",
   "name": "python3"
  },
  "language_info": {
   "codemirror_mode": {
    "name": "ipython",
    "version": 3
   },
   "file_extension": ".py",
   "mimetype": "text/x-python",
   "name": "python",
   "nbconvert_exporter": "python",
   "pygments_lexer": "ipython3",
   "version": "3.10.0"
  },
  "orig_nbformat": 4,
  "vscode": {
   "interpreter": {
    "hash": "1ca47866375c9e8efc6c4ea03302cd4c4c5daf7f0e220f0f32c5df8d3c27cecb"
   }
  }
 },
 "nbformat": 4,
 "nbformat_minor": 2
}
