{
 "cells": [
  {
   "cell_type": "markdown",
   "metadata": {},
   "source": [
    "## Using existing function as a parameter in new function \n",
    "## and making it a HIgher Order Function\n"
   ]
  },
  {
   "cell_type": "code",
   "execution_count": 2,
   "metadata": {},
   "outputs": [],
   "source": [
    "def square(x):                    # block of code to tak e as parameter \n",
    "    return x**2\n",
    "def cube(x):\n",
    "    return x**3\n",
    "\n",
    "\n",
    "def sample(type):\n",
    "    if type ==\"square\":              # block of code for Higher Order Function\n",
    "        return square \n",
    "    elif type ==\"cube\":\n",
    "        return cube\n",
    "\n"
   ]
  },
  {
   "cell_type": "markdown",
   "metadata": {},
   "source": [
    "## Calling Higher Order Function"
   ]
  },
  {
   "cell_type": "code",
   "execution_count": 4,
   "metadata": {},
   "outputs": [
    {
     "name": "stdout",
     "output_type": "stream",
     "text": [
      "9\n",
      "27\n"
     ]
    }
   ],
   "source": [
    "result=sample(\"square\")\n",
    "print(result(3))                     # calling function by taking square funcion as a parmeter \n",
    "\n",
    "result2 = sample(\"cube\")               # calling function by taking cube function as a parameter \n",
    "print(result2(3))\n"
   ]
  },
  {
   "cell_type": "markdown",
   "metadata": {},
   "source": [
    "## Making clouser function"
   ]
  },
  {
   "cell_type": "code",
   "execution_count": 5,
   "metadata": {},
   "outputs": [],
   "source": [
    "def add_ten(): # clouser function\n",
    "    ten = 10   # inner function                 # Clouser function code, outer clouser block is add_ten() and inner code is add()\n",
    "    def add(num):\n",
    "        return ten + num   # returning value\n",
    "    return add             # returning inner function"
   ]
  },
  {
   "cell_type": "markdown",
   "metadata": {},
   "source": [
    "## Calling clouser function"
   ]
  },
  {
   "cell_type": "code",
   "execution_count": 6,
   "metadata": {},
   "outputs": [
    {
     "name": "stdout",
     "output_type": "stream",
     "text": [
      "15\n"
     ]
    }
   ],
   "source": [
    "resulr = add_ten()\n",
    "print(resulr(5))                           # calling for closuer function by assigning outer block of code to a variable then passing value \n",
    "                                           # as a argument for inner block of code "
   ]
  },
  {
   "cell_type": "markdown",
   "metadata": {},
   "source": [
    "## Making function with a decorator "
   ]
  },
  {
   "cell_type": "code",
   "execution_count": 9,
   "metadata": {},
   "outputs": [],
   "source": [
    "def uppercase(function):  # clouser function\n",
    "    def wraper():         # inner function \n",
    "        fun = function()                               # Decorator\n",
    "        make_uppercase = fun.upper()\n",
    "        return make_uppercase    # returning variable\n",
    "    return wraper                # returning inner function\n",
    "@uppercase #-----------using decorator \n",
    "def greeting():\n",
    "    return \"abcdefghijklm\""
   ]
  },
  {
   "cell_type": "markdown",
   "metadata": {},
   "source": [
    "## Calling decorator function"
   ]
  },
  {
   "cell_type": "code",
   "execution_count": 10,
   "metadata": {},
   "outputs": [
    {
     "name": "stdout",
     "output_type": "stream",
     "text": [
      "ABCDEFGHIJKLM\n"
     ]
    }
   ],
   "source": [
    "print(greeting())"
   ]
  },
  {
   "cell_type": "markdown",
   "metadata": {},
   "source": [
    "## Multiple decorators to a single function"
   ]
  },
  {
   "cell_type": "code",
   "execution_count": 12,
   "metadata": {},
   "outputs": [],
   "source": [
    "def uppercase_function(function):\n",
    "    def wrapper():\n",
    "        func = function()\n",
    "        uppercase = func.upper()\n",
    "        return uppercase\n",
    "    return wrapper\n",
    "\n",
    "def swapcase_function(function):\n",
    "    def wrapper():\n",
    "        fun = function()\n",
    "        swapcas = fun.swapcase()\n",
    "        return swapcas\n",
    "    return wrapper\n"
   ]
  },
  {
   "cell_type": "markdown",
   "metadata": {},
   "source": [
    "## while calling function with multiple decorators order of the decorator is more important  "
   ]
  },
  {
   "cell_type": "code",
   "execution_count": 19,
   "metadata": {},
   "outputs": [],
   "source": [
    "\n",
    "@uppercase_function       # first Decorator \n",
    "def greeting():\n",
    "    return \"Lalit Gajanan Humane\""
   ]
  },
  {
   "cell_type": "code",
   "execution_count": 20,
   "metadata": {},
   "outputs": [
    {
     "name": "stdout",
     "output_type": "stream",
     "text": [
      "LALIT GAJANAN HUMANE\n"
     ]
    }
   ],
   "source": [
    "print(greeting())"
   ]
  },
  {
   "cell_type": "code",
   "execution_count": 21,
   "metadata": {},
   "outputs": [],
   "source": [
    "@swapcase_function        # second decorator \n",
    "def greeting():\n",
    "    return \"Lalit Gajanan Humane\""
   ]
  },
  {
   "cell_type": "code",
   "execution_count": 22,
   "metadata": {},
   "outputs": [
    {
     "name": "stdout",
     "output_type": "stream",
     "text": [
      "lALIT gAJANAN hUMANE\n"
     ]
    }
   ],
   "source": [
    "print(greeting())"
   ]
  },
  {
   "cell_type": "markdown",
   "metadata": {},
   "source": [
    "## Accepting Parameters in Decorator Functions"
   ]
  },
  {
   "cell_type": "code",
   "execution_count": 29,
   "metadata": {},
   "outputs": [],
   "source": [
    "def decorator_with_parameter(function):\n",
    "    def wrapper_with_parameter(par1,par2,par3):          # passing multiple parameters \n",
    "        function(par1,par2,par3)\n",
    "        print(\"I live i {}\".format(par3))\n",
    "    return wrapper_with_parameter\n",
    "\n"
   ]
  },
  {
   "cell_type": "code",
   "execution_count": 30,
   "metadata": {},
   "outputs": [],
   "source": [
    "@decorator_with_parameter\n",
    "def print_full_name(first_name,last_name,country):\n",
    "    print(\"I am {} {}. i love football\".format(first_name,last_name,country))"
   ]
  },
  {
   "cell_type": "code",
   "execution_count": 32,
   "metadata": {},
   "outputs": [
    {
     "name": "stdout",
     "output_type": "stream",
     "text": [
      "I am Lalit Humane. i love football\n",
      "I live i India\n"
     ]
    }
   ],
   "source": [
    "print_full_name(\"Lalit\",\"Humane\",\"India\")             # passing argument in decorator function "
   ]
  },
  {
   "cell_type": "markdown",
   "metadata": {},
   "source": [
    "### passing bultin function as a parameter "
   ]
  },
  {
   "cell_type": "code",
   "execution_count": 34,
   "metadata": {},
   "outputs": [],
   "source": [
    "def mfunction(func):\n",
    "    def sfunction():\n",
    "        print(\"Lalit\")\n",
    "        print(len([1,2,3,4,5,6]))\n",
    "        print(\"Humane\")\n",
    "    return sfunction()"
   ]
  },
  {
   "cell_type": "code",
   "execution_count": 35,
   "metadata": {},
   "outputs": [
    {
     "name": "stdout",
     "output_type": "stream",
     "text": [
      "Lalit\n",
      "6\n",
      "Humane\n"
     ]
    }
   ],
   "source": [
    "mfunction(len)"
   ]
  },
  {
   "cell_type": "code",
   "execution_count": 36,
   "metadata": {},
   "outputs": [],
   "source": [
    "def message(x):\n",
    "    print(\"this is trial for decorators\")\n",
    "    x()\n",
    "    print(\"succsess\")"
   ]
  },
  {
   "cell_type": "code",
   "execution_count": 39,
   "metadata": {},
   "outputs": [
    {
     "name": "stdout",
     "output_type": "stream",
     "text": [
      "this is trial for decorators\n",
      "My name is Lalit Gajanan Humane\n",
      "succsess\n"
     ]
    }
   ],
   "source": [
    "@message\n",
    "def name():\n",
    "    print(\"My name is Lalit Gajanan Humane\")"
   ]
  },
  {
   "cell_type": "code",
   "execution_count": 38,
   "metadata": {},
   "outputs": [
    {
     "name": "stdout",
     "output_type": "stream",
     "text": [
      "this is trial for decorators\n",
      "My name is Lalit Gajanan Humane\n",
      "succsess\n"
     ]
    }
   ],
   "source": [
    "message(name)"
   ]
  },
  {
   "cell_type": "code",
   "execution_count": null,
   "metadata": {},
   "outputs": [],
   "source": []
  }
 ],
 "metadata": {
  "kernelspec": {
   "display_name": "Python 3.10.0 64-bit",
   "language": "python",
   "name": "python3"
  },
  "language_info": {
   "codemirror_mode": {
    "name": "ipython",
    "version": 3
   },
   "file_extension": ".py",
   "mimetype": "text/x-python",
   "name": "python",
   "nbconvert_exporter": "python",
   "pygments_lexer": "ipython3",
   "version": "3.10.0"
  },
  "orig_nbformat": 4,
  "vscode": {
   "interpreter": {
    "hash": "1ca47866375c9e8efc6c4ea03302cd4c4c5daf7f0e220f0f32c5df8d3c27cecb"
   }
  }
 },
 "nbformat": 4,
 "nbformat_minor": 2
}
