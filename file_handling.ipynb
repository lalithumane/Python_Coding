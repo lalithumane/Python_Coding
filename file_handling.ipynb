{
 "cells": [
  {
   "cell_type": "markdown",
   "metadata": {},
   "source": [
    "## File Handling"
   ]
  },
  {
   "cell_type": "markdown",
   "metadata": {},
   "source": [
    "### \"r\" - Read - Default value. Opens a file for reading, it returns an error if the file does not exist\n",
    "### \"a\" - Append - Opens a file for appending, creates the file if it does not exist\n",
    "### \"w\" - Write - Opens a file for writing, creates the file if it does not exist\n",
    "### \"x\" - Create - Creates the specified file, returns an error if the file exists\n",
    "### \"t\" - Text - Default value. Text mode\n",
    "### \"b\" - Binary - Binary mode (e.g. images)"
   ]
  },
  {
   "cell_type": "code",
   "execution_count": 30,
   "metadata": {},
   "outputs": [
    {
     "name": "stdout",
     "output_type": "stream",
     "text": [
      "Complete lyrics of Twinkle Twinkle Little Star\n",
      "Per\n"
     ]
    }
   ],
   "source": [
    "f = open('twi.txt')  # to open the file we always use open() built in fuction           \n",
    "result = f.read(50)  # The default mode of open is reading, so we do not have to specify 'r' or 'rt'.     \n",
    "print(result)        # we can specify length of the character we want to print through read builtin function \n",
    "f.close()"
   ]
  },
  {
   "cell_type": "code",
   "execution_count": 32,
   "metadata": {},
   "outputs": [
    {
     "ename": "ValueError",
     "evalue": "I/O operation on closed file.",
     "output_type": "error",
     "traceback": [
      "\u001b[1;31m---------------------------------------------------------------------------\u001b[0m",
      "\u001b[1;31mValueError\u001b[0m                                Traceback (most recent call last)",
      "\u001b[1;32ml:\\Lalit\\DS\\Data_Scientist_1\\complete_coding and libraries\\30_days_challange\\file_handling.ipynb Cell 4\u001b[0m in \u001b[0;36m<cell line: 1>\u001b[1;34m()\u001b[0m\n\u001b[1;32m----> <a href='vscode-notebook-cell:/l%3A/Lalit/DS/Data_Scientist_1/complete_coding%20and%20libraries/30_days_challange/file_handling.ipynb#W1sZmlsZQ%3D%3D?line=0'>1</a>\u001b[0m result \u001b[39m=\u001b[39m f\u001b[39m.\u001b[39;49mread()         \u001b[39m# otherwise read function can print whole text as a string which is present in opened file \u001b[39;00m\n\u001b[0;32m      <a href='vscode-notebook-cell:/l%3A/Lalit/DS/Data_Scientist_1/complete_coding%20and%20libraries/30_days_challange/file_handling.ipynb#W1sZmlsZQ%3D%3D?line=1'>2</a>\u001b[0m \u001b[39mprint\u001b[39m(result)\n",
      "\u001b[1;31mValueError\u001b[0m: I/O operation on closed file."
     ]
    }
   ],
   "source": [
    "result = f.read()         # otherwise read function can print whole text as a string which is present in opened file \n",
    "print(result)             # read(): read the whole text as string. \n",
    "                          # If we want to limit the number of characters we want to read, we can limit it by passing int value to the read(number) method\n"
   ]
  },
  {
   "cell_type": "code",
   "execution_count": 14,
   "metadata": {},
   "outputs": [
    {
     "name": "stdout",
     "output_type": "stream",
     "text": [
      "\n"
     ]
    }
   ],
   "source": [
    "result=f.readline()           # readline(): read only the first line\n",
    "print(result)"
   ]
  },
  {
   "cell_type": "code",
   "execution_count": 29,
   "metadata": {},
   "outputs": [
    {
     "ename": "ValueError",
     "evalue": "I/O operation on closed file.",
     "output_type": "error",
     "traceback": [
      "\u001b[1;31m---------------------------------------------------------------------------\u001b[0m",
      "\u001b[1;31mValueError\u001b[0m                                Traceback (most recent call last)",
      "\u001b[1;32ml:\\Lalit\\DS\\Data_Scientist_1\\complete_coding and libraries\\30_days_challange\\file_handling.ipynb Cell 6\u001b[0m in \u001b[0;36m<cell line: 1>\u001b[1;34m()\u001b[0m\n\u001b[1;32m----> <a href='vscode-notebook-cell:/l%3A/Lalit/DS/Data_Scientist_1/complete_coding%20and%20libraries/30_days_challange/file_handling.ipynb#W4sZmlsZQ%3D%3D?line=0'>1</a>\u001b[0m result1 \u001b[39m=\u001b[39m f\u001b[39m.\u001b[39;49mreadlines()            \u001b[39m# readlines(): read all the text line by line and returns a list of lines\u001b[39;00m\n\u001b[0;32m      <a href='vscode-notebook-cell:/l%3A/Lalit/DS/Data_Scientist_1/complete_coding%20and%20libraries/30_days_challange/file_handling.ipynb#W4sZmlsZQ%3D%3D?line=1'>2</a>\u001b[0m \u001b[39mprint\u001b[39m(result1)\n\u001b[0;32m      <a href='vscode-notebook-cell:/l%3A/Lalit/DS/Data_Scientist_1/complete_coding%20and%20libraries/30_days_challange/file_handling.ipynb#W4sZmlsZQ%3D%3D?line=2'>3</a>\u001b[0m f\u001b[39m.\u001b[39mclose()\n",
      "\u001b[1;31mValueError\u001b[0m: I/O operation on closed file."
     ]
    }
   ],
   "source": [
    "result1 = f.readlines()            # readlines(): read all the text line by line and returns a list of lines\n",
    "print(result1)\n",
    "f.close()"
   ]
  },
  {
   "cell_type": "code",
   "execution_count": 20,
   "metadata": {},
   "outputs": [
    {
     "name": "stdout",
     "output_type": "stream",
     "text": [
      "[]\n"
     ]
    }
   ],
   "source": [
    "file = f.read().splitlines()          # Another way to get all the lines as a list is using splitlines():\n",
    "print(file)\n",
    "f.close()  # after whole work it is very important to close the file with close() built in function"
   ]
  },
  {
   "cell_type": "markdown",
   "metadata": {},
   "source": [
    "## After we open a file, we should close it. There is a high tendency of forgetting to close them. There is a new way of opening files using with - closes the files by itself. Let us rewrite the the previous example with the with method:"
   ]
  },
  {
   "cell_type": "code",
   "execution_count": 27,
   "metadata": {},
   "outputs": [
    {
     "name": "stdout",
     "output_type": "stream",
     "text": [
      "Complete lyrics of Twinkle Twinkle Little Star\n",
      "Perhaps it is little known that Twinkle, Twinkle Little Star actually consists of 5 verses, with the fifth verse rarely\n",
      "sung. Here’s the complete 5 verses, taken from the Oxford Dictionary of Nursery Rhymes (2nd edition, 1997),\n",
      "with the repetition of the first two lines added to fit the melody.\n",
      "Twinkle, twinkle, little star,\n",
      "How I wonder what you are!\n",
      "Up above the world so high,\n",
      "Like a diamond in the sky.\n",
      "Twinkle, twinkle, little star,\n",
      "How I wonder what you are!\n",
      "****\n",
      "When the blazing sun is gone,\n",
      "When he nothing shines upon,\n",
      "Then you show your little light,\n",
      "Twinkle, twinkle, all the night.\n",
      "Twinkle, twinkle, little star,\n",
      "How I wonder what you are!\n",
      "****\n",
      "Then the traveller in the dark,\n",
      "Thanks you for your tiny spark,\n",
      "He could not see which way to go,\n",
      "If you did not twinkle so.\n",
      "Twinkle, twinkle, little star,\n",
      "How I wonder what you are!\n"
     ]
    }
   ],
   "source": [
    "with open('twi.txt') as f:     # with helps to close file automatically after work done \n",
    "    lines = f.read()\n",
    "    print(lines)"
   ]
  },
  {
   "cell_type": "markdown",
   "metadata": {},
   "source": [
    "## Opening Files for Writing and Updating To write to an existing file, we must add a mode as parameter to the open() function:\n",
    "\n",
    "### \"a\" - append - will append to the end of the file, if the file does not it creates a new file.\n",
    "### \"w\" - write - will overwrite any existing content, if the file does not exist it creates."
   ]
  },
  {
   "cell_type": "code",
   "execution_count": 35,
   "metadata": {},
   "outputs": [],
   "source": [
    "with open('sample_file.txt','a') as f:                   # Let us append some text to the file we have been reading:\n",
    "    f.write('This text has to be printed at the end of twi')\n"
   ]
  },
  {
   "cell_type": "code",
   "execution_count": 36,
   "metadata": {},
   "outputs": [],
   "source": [
    "with open('twi.txt','a') as f:\n",
    "    f.write('Sample text')\n",
    "    "
   ]
  },
  {
   "cell_type": "code",
   "execution_count": 37,
   "metadata": {},
   "outputs": [],
   "source": [
    "# The method below creates a new file, if the file does not exist:\n",
    "with open('new_file.txt','w') as file:\n",
    "    file.write('fuck you')"
   ]
  },
  {
   "cell_type": "markdown",
   "metadata": {},
   "source": [
    "## Deleting Files\n",
    "We have seen in previous section, how to make and remove a directory using os module. Again now, if we want to remove a file we use os module."
   ]
  },
  {
   "cell_type": "code",
   "execution_count": 9,
   "metadata": {},
   "outputs": [
    {
     "ename": "FileNotFoundError",
     "evalue": "[WinError 2] The system cannot find the file specified: 'twi.txt'",
     "output_type": "error",
     "traceback": [
      "\u001b[1;31m---------------------------------------------------------------------------\u001b[0m",
      "\u001b[1;31mFileNotFoundError\u001b[0m                         Traceback (most recent call last)",
      "\u001b[1;32ml:\\Lalit\\DS\\Data_Scientist_1\\complete_coding and libraries\\30_days_challange\\file_handling.ipynb Cell 15\u001b[0m in \u001b[0;36m<cell line: 2>\u001b[1;34m()\u001b[0m\n\u001b[0;32m      <a href='vscode-notebook-cell:/l%3A/Lalit/DS/Data_Scientist_1/complete_coding%20and%20libraries/30_days_challange/file_handling.ipynb#X16sZmlsZQ%3D%3D?line=0'>1</a>\u001b[0m \u001b[39mimport\u001b[39;00m \u001b[39mos\u001b[39;00m\n\u001b[1;32m----> <a href='vscode-notebook-cell:/l%3A/Lalit/DS/Data_Scientist_1/complete_coding%20and%20libraries/30_days_challange/file_handling.ipynb#X16sZmlsZQ%3D%3D?line=1'>2</a>\u001b[0m os\u001b[39m.\u001b[39;49mremove(\u001b[39m'\u001b[39;49m\u001b[39mtwi.txt\u001b[39;49m\u001b[39m'\u001b[39;49m)\n",
      "\u001b[1;31mFileNotFoundError\u001b[0m: [WinError 2] The system cannot find the file specified: 'twi.txt'"
     ]
    }
   ],
   "source": [
    "import os\n",
    "os.remove('twi.txt')             # file is deleted from local directory with the help of 'os' module\n",
    "                                 # If the file does not exist, the remove method will raise an error, so it is good to use a condition like this:"
   ]
  },
  {
   "cell_type": "code",
   "execution_count": 4,
   "metadata": {},
   "outputs": [
    {
     "ename": "FileNotFoundError",
     "evalue": "[Errno 2] No such file or directory: 'twi.txt'",
     "output_type": "error",
     "traceback": [
      "\u001b[1;31m---------------------------------------------------------------------------\u001b[0m",
      "\u001b[1;31mFileNotFoundError\u001b[0m                         Traceback (most recent call last)",
      "\u001b[1;32ml:\\Lalit\\DS\\Data_Scientist_1\\complete_coding and libraries\\30_days_challange\\file_handling.ipynb Cell 16\u001b[0m in \u001b[0;36m<cell line: 1>\u001b[1;34m()\u001b[0m\n\u001b[1;32m----> <a href='vscode-notebook-cell:/l%3A/Lalit/DS/Data_Scientist_1/complete_coding%20and%20libraries/30_days_challange/file_handling.ipynb#X21sZmlsZQ%3D%3D?line=0'>1</a>\u001b[0m \u001b[39mwith\u001b[39;00m \u001b[39mopen\u001b[39;49m(\u001b[39m'\u001b[39;49m\u001b[39mtwi.txt\u001b[39;49m\u001b[39m'\u001b[39;49m,\u001b[39m'\u001b[39;49m\u001b[39mr\u001b[39;49m\u001b[39m'\u001b[39;49m) \u001b[39mas\u001b[39;00m file:\n\u001b[0;32m      <a href='vscode-notebook-cell:/l%3A/Lalit/DS/Data_Scientist_1/complete_coding%20and%20libraries/30_days_challange/file_handling.ipynb#X21sZmlsZQ%3D%3D?line=1'>2</a>\u001b[0m     file\u001b[39m.\u001b[39mread()\n",
      "\u001b[1;31mFileNotFoundError\u001b[0m: [Errno 2] No such file or directory: 'twi.txt'"
     ]
    }
   ],
   "source": [
    "with open('twi.txt','r') as file:\n",
    "    file.read()"
   ]
  },
  {
   "cell_type": "code",
   "execution_count": 16,
   "metadata": {},
   "outputs": [
    {
     "name": "stdout",
     "output_type": "stream",
     "text": [
      "[' My name is lalit Gajanan Humane a and i am making this file \\n', 'Just for the purpose of file handling\\n', 'This text has to be printed at the end of twi']\n"
     ]
    }
   ],
   "source": [
    "with open('sample_file.txt') as file:\n",
    "    # print(file.read())            # printing whole character from given file\n",
    "    # print(file.read(10))          # printing 10 character from given file\n",
    "    # print(file.readline())        # printing all characters present in a single line from given file\n",
    "    print(file.readlines())         # printing all characters in a list format from given file "
   ]
  },
  {
   "cell_type": "markdown",
   "metadata": {},
   "source": [
    "## File with txt Extension\n",
    "### File with txt extension is a very common form of data and we have covered it in the previous section. Let us move to the JSON file\n",
    "\n",
    "## File with json Extension\n",
    "### JSON stands for JavaScript Object Notation. Actually, it is a stringified JavaScript object or Python dictionary."
   ]
  },
  {
   "cell_type": "code",
   "execution_count": 19,
   "metadata": {},
   "outputs": [],
   "source": [
    "person_dct = {'Name':\"Lalit\",\n",
    "'Father':\"Gajanan\",\n",
    "'Surname':'Humane',\n",
    "'Skills':['Python','MS Excel','My SQL','Power BI']}"
   ]
  },
  {
   "cell_type": "code",
   "execution_count": 21,
   "metadata": {},
   "outputs": [
    {
     "name": "stdout",
     "output_type": "stream",
     "text": [
      "{'Name':\"Lalit\",\n",
      "'Father':\"Gajanan\",\n",
      "'Surname':'Humane',\n",
      "'Skills':['Python','MS Excel','My SQL','Power BI']}\n"
     ]
    }
   ],
   "source": [
    "person_json = '''{'Name':\"Lalit\",\n",
    "'Father':\"Gajanan\",\n",
    "'Surname':'Humane',\n",
    "'Skills':['Python','MS Excel','My SQL','Power BI']}'''\n",
    "\n",
    "print(person_json)"
   ]
  },
  {
   "cell_type": "markdown",
   "metadata": {},
   "source": [
    "## Changing JSON to Dictionary\n",
    "### To change a JSON to a dictionary, first we import the json module and then we use loads method."
   ]
  },
  {
   "cell_type": "code",
   "execution_count": 35,
   "metadata": {},
   "outputs": [
    {
     "name": "stdout",
     "output_type": "stream",
     "text": [
      "<class 'dict'>\n",
      "{'name': 'Lalit', 'country': 'India', 'city': 'Amravati', 'skills': ['Power BI', 'My SQL', 'Python']}\n",
      "Lalit\n"
     ]
    }
   ],
   "source": [
    "import json\n",
    "# JSON\n",
    "person_json = '''{\n",
    "    \"name\": \"Lalit\",\n",
    "    \"country\": \"India\",\n",
    "    \"city\": \"Amravati\",\n",
    "    \"skills\": [\"Power BI\", \"My SQL\", \"Python\"]\n",
    "}'''\n",
    "# let's change JSON to dictionary\n",
    "person_dct = json.loads(person_json)\n",
    "print(type(person_dct))\n",
    "print(person_dct)\n",
    "print(person_dct['name'])"
   ]
  },
  {
   "cell_type": "markdown",
   "metadata": {},
   "source": [
    "## Changing Dictionary to JSON\n",
    "### To change a dictionary to a JSON we use dumps method from the json module."
   ]
  },
  {
   "cell_type": "code",
   "execution_count": 40,
   "metadata": {},
   "outputs": [
    {
     "name": "stdout",
     "output_type": "stream",
     "text": [
      "{\n",
      "    \"Name\": \"Lalit\",\n",
      "    \"Surname\": \"Humane\"\n",
      "}\n",
      "<class 'str'>\n"
     ]
    }
   ],
   "source": [
    "dct = {\"Name\":\"Lalit\",\n",
    "\"Surname\":\"Humane\"}\n",
    "# let's convert it to  json                     # when you print it, it does not have the quote, but actually it is a string\n",
    "                                                # JSON does not have type, it is a string type.\n",
    "js = json.dumps(dct, indent = 4)\n",
    "print(js)\n",
    "print(type(js))"
   ]
  },
  {
   "cell_type": "markdown",
   "metadata": {},
   "source": [
    "## Saving as JSON File\n",
    "### We can also save our data as a json file. Let us save it as a json file using the following steps. For writing a json file, we use the json.dump() method, it can take ### dictionary, output file, ensure_ascii and indent."
   ]
  },
  {
   "cell_type": "code",
   "execution_count": 42,
   "metadata": {},
   "outputs": [],
   "source": [
    "import json\n",
    "# python dictionary\n",
    "person = {\n",
    "    \"name\": \"Asabeneh\",\n",
    "    \"country\": \"Finland\",\n",
    "    \"city\": \"Helsinki\",\n",
    "    \"skills\": [\"JavaScrip\", \"React\", \"Python\"]\n",
    "}\n",
    "with open('person_json', 'w', encoding='utf-8') as f:\n",
    "    json.dump(person, f, ensure_ascii=False, indent=4)\n",
    "# In the code above, we use encoding and indentation. Indentation makes the json file easy to read."
   ]
  },
  {
   "cell_type": "code",
   "execution_count": null,
   "metadata": {},
   "outputs": [],
   "source": []
  }
 ],
 "metadata": {
  "kernelspec": {
   "display_name": "Python 3.10.0 64-bit",
   "language": "python",
   "name": "python3"
  },
  "language_info": {
   "codemirror_mode": {
    "name": "ipython",
    "version": 3
   },
   "file_extension": ".py",
   "mimetype": "text/x-python",
   "name": "python",
   "nbconvert_exporter": "python",
   "pygments_lexer": "ipython3",
   "version": "3.10.0"
  },
  "orig_nbformat": 4,
  "vscode": {
   "interpreter": {
    "hash": "1ca47866375c9e8efc6c4ea03302cd4c4c5daf7f0e220f0f32c5df8d3c27cecb"
   }
  }
 },
 "nbformat": 4,
 "nbformat_minor": 2
}
