{
 "cells": [
  {
   "cell_type": "code",
   "execution_count": 2,
   "metadata": {},
   "outputs": [
    {
     "name": "stdout",
     "output_type": "stream",
     "text": [
      "A is positive\n"
     ]
    }
   ],
   "source": [
    "a = 0\n",
    "print('A is positive') if a >= 0  else print('A is negative') # first condition met, 'A is positive' will be printed"
   ]
  },
  {
   "cell_type": "code",
   "execution_count": 1,
   "metadata": {},
   "outputs": [
    {
     "name": "stdout",
     "output_type": "stream",
     "text": [
      "wait you are not old enough. Your age is 17 You need to wait for another 1 years \n"
     ]
    }
   ],
   "source": [
    "User = input('Enter your age: ').strip()\n",
    "# str1 = User.strip()\n",
    "data_conv = int(User)\n",
    "age = 18\n",
    "if data_conv >= 18:\n",
    "    print('You are old enough to drive')\n",
    "else:\n",
    "    print('wait you are not old enough. Your age is {} You need to wait for another {} years '.format(data_conv,age-data_conv))"
   ]
  },
  {
   "cell_type": "code",
   "execution_count": 3,
   "metadata": {},
   "outputs": [
    {
     "name": "stdout",
     "output_type": "stream",
     "text": [
      "you are younger than me\n"
     ]
    }
   ],
   "source": [
    "my_age,your_age = int(input()),int(input())\n",
    "# your_age = int(input('Entry your age :'))\n",
    "result = my_age - your_age\n",
    "if result == 1:\n",
    "    print('i am {} year older than you '.format(result))\n",
    "elif result > 1:\n",
    "    print('i am {} years older than you '.format(result))\n",
    "else:\n",
    "    print('you are younger than me')\n",
    "# print(result)"
   ]
  },
  {
   "cell_type": "code",
   "execution_count": 4,
   "metadata": {},
   "outputs": [
    {
     "name": "stdout",
     "output_type": "stream",
     "text": [
      "a is smaller than b\n"
     ]
    }
   ],
   "source": [
    "a,b=int(input('Enter value of a')),int(input('Enter value of b'))\n",
    "if a>b:\n",
    "    print('a is greater than b')\n",
    "elif a<b:\n",
    "    print('a is smaller than b')\n",
    "else:\n",
    "    print('a is equal to b')"
   ]
  },
  {
   "cell_type": "code",
   "execution_count": 5,
   "metadata": {},
   "outputs": [
    {
     "name": "stdout",
     "output_type": "stream",
     "text": [
      "80\n",
      "Congractulations! Your Grade is B\n"
     ]
    }
   ],
   "source": [
    "score = int((input('Enter your score here: ').strip()))\n",
    "print((score))\n",
    "if score > 80 and score < 100:\n",
    "    print('Congractulations! Your Grade is A')\n",
    "elif score > 70 and score < 89:\n",
    "    print('Congractulations! Your Grade is B')\n",
    "elif score > 60 and score < 69:\n",
    "    print('Congractulations! Your Grade is C')\n",
    "elif score > 50 and score < 59:\n",
    "    print('Congractulations! Your Grade is D')\n",
    "else:\n",
    "    print('Congractulations! Your Grade is F')"
   ]
  },
  {
   "cell_type": "code",
   "execution_count": 6,
   "metadata": {},
   "outputs": [
    {
     "name": "stdout",
     "output_type": "stream",
     "text": [
      "the season is Winter\n"
     ]
    }
   ],
   "source": [
    "user = input('Enter month name').capitalize()\n",
    "# print(user)\n",
    "if user in ['January','February','December']:\n",
    "    print('the season is Winter')\n",
    "elif user in ['April','May','March']:\n",
    "    print('the season is Spring')\n",
    "elif user in ['September','October','November']:\n",
    "    print('the season is Autum')\n",
    "else:\n",
    "    if user in ['June','July','August']:\n",
    "        print('the season is Summer')\n",
    "    else:\n",
    "        print(\"enter wrong input :- \",user)"
   ]
  },
  {
   "cell_type": "code",
   "execution_count": 7,
   "metadata": {},
   "outputs": [
    {
     "name": "stdout",
     "output_type": "stream",
     "text": [
      "['banana', 'orange', 'mango', 'lemon', 'shbz']\n"
     ]
    }
   ],
   "source": [
    "fruits = ['banana', 'orange', 'mango', 'lemon']\n",
    "user = input('Enter fruit name')\n",
    "if user in fruits:\n",
    "    print('{} fruit already exist in the list'.format(user))\n",
    "else:\n",
    "    fruits.append(user)\n",
    "    print(fruits)"
   ]
  },
  {
   "cell_type": "code",
   "execution_count": 9,
   "metadata": {},
   "outputs": [
    {
     "ename": "IndentationError",
     "evalue": "unexpected indent (827880619.py, line 13)",
     "output_type": "error",
     "traceback": [
      "\u001b[1;36m  Input \u001b[1;32mIn [9]\u001b[1;36m\u001b[0m\n\u001b[1;33m    skill = person['skills']\u001b[0m\n\u001b[1;37m    ^\u001b[0m\n\u001b[1;31mIndentationError\u001b[0m\u001b[1;31m:\u001b[0m unexpected indent\n"
     ]
    }
   ],
   "source": [
    "person={\n",
    "    'first_name': 'Asabeneh',\n",
    "    'last_name': 'Yetayeh',\n",
    "    'age': 25,\n",
    "    'country': 'Finland',\n",
    "    'is_marred': True,\n",
    "    'skills': ['JavaScript', 'React', 'Node', 'MongoDB', 'Python'],\n",
    "    'address': {\n",
    "        'street': 'Space street',\n",
    "        'zipcode': '02210'\n",
    "    }\n",
    "    }\n",
    "    skill = person['skills']\n",
    "    print(len(skill))\n",
    "    print('The middle skill is ',skill[2])\n",
    "    print('python' in  skill)\n"
   ]
  },
  {
   "cell_type": "code",
   "execution_count": 10,
   "metadata": {},
   "outputs": [
    {
     "ename": "NameError",
     "evalue": "name 'skill' is not defined",
     "output_type": "error",
     "traceback": [
      "\u001b[1;31m---------------------------------------------------------------------------\u001b[0m",
      "\u001b[1;31mNameError\u001b[0m                                 Traceback (most recent call last)",
      "\u001b[1;32ml:\\Lalit\\DS\\Data Scientist\\Coding\\Practice Coding\\Conditional.ipynb Cell 9\u001b[0m in \u001b[0;36m<cell line: 1>\u001b[1;34m()\u001b[0m\n\u001b[1;32m----> <a href='vscode-notebook-cell:/l%3A/Lalit/DS/Data%20Scientist/Coding/Practice%20Coding/Conditional.ipynb#X11sZmlsZQ%3D%3D?line=0'>1</a>\u001b[0m \u001b[39mif\u001b[39;00m \u001b[39m'\u001b[39m\u001b[39mJavaScript\u001b[39m\u001b[39m'\u001b[39m \u001b[39mand\u001b[39;00m \u001b[39m'\u001b[39m\u001b[39mReact\u001b[39m\u001b[39m'\u001b[39m \u001b[39min\u001b[39;00m skill:\n\u001b[0;32m      <a href='vscode-notebook-cell:/l%3A/Lalit/DS/Data%20Scientist/Coding/Practice%20Coding/Conditional.ipynb#X11sZmlsZQ%3D%3D?line=1'>2</a>\u001b[0m     \u001b[39mprint\u001b[39m(\u001b[39m'\u001b[39m\u001b[39mHe is a frontend developer\u001b[39m\u001b[39m'\u001b[39m)\n\u001b[0;32m      <a href='vscode-notebook-cell:/l%3A/Lalit/DS/Data%20Scientist/Coding/Practice%20Coding/Conditional.ipynb#X11sZmlsZQ%3D%3D?line=2'>3</a>\u001b[0m \u001b[39mif\u001b[39;00m \u001b[39m'\u001b[39m\u001b[39mNode\u001b[39m\u001b[39m'\u001b[39m\u001b[39mand\u001b[39;00m \u001b[39m'\u001b[39m\u001b[39mPython\u001b[39m\u001b[39m'\u001b[39m\u001b[39mand\u001b[39;00m \u001b[39m'\u001b[39m\u001b[39mMongoDB\u001b[39m\u001b[39m'\u001b[39m \u001b[39min\u001b[39;00m skill:\n",
      "\u001b[1;31mNameError\u001b[0m: name 'skill' is not defined"
     ]
    }
   ],
   "source": [
    "if 'JavaScript' and 'React' in skill:\n",
    "    print('He is a frontend developer')\n",
    "if 'Node'and 'Python'and 'MongoDB' in skill:\n",
    "    print(\"He is backend developer\")\n"
   ]
  },
  {
   "cell_type": "code",
   "execution_count": 11,
   "metadata": {},
   "outputs": [
    {
     "ename": "NameError",
     "evalue": "name 'person' is not defined",
     "output_type": "error",
     "traceback": [
      "\u001b[1;31m---------------------------------------------------------------------------\u001b[0m",
      "\u001b[1;31mNameError\u001b[0m                                 Traceback (most recent call last)",
      "\u001b[1;32ml:\\Lalit\\DS\\Data Scientist\\Coding\\Practice Coding\\Conditional.ipynb Cell 10\u001b[0m in \u001b[0;36m<cell line: 1>\u001b[1;34m()\u001b[0m\n\u001b[1;32m----> <a href='vscode-notebook-cell:/l%3A/Lalit/DS/Data%20Scientist/Coding/Practice%20Coding/Conditional.ipynb#X12sZmlsZQ%3D%3D?line=0'>1</a>\u001b[0m \u001b[39mif\u001b[39;00m person[\u001b[39m'\u001b[39m\u001b[39mis_marred\u001b[39m\u001b[39m'\u001b[39m] \u001b[39m==\u001b[39m \u001b[39mTrue\u001b[39;00m \u001b[39mand\u001b[39;00m person[\u001b[39m'\u001b[39m\u001b[39mcountry\u001b[39m\u001b[39m'\u001b[39m] \u001b[39m==\u001b[39m\u001b[39m'\u001b[39m\u001b[39mFinland\u001b[39m\u001b[39m'\u001b[39m:\n\u001b[0;32m      <a href='vscode-notebook-cell:/l%3A/Lalit/DS/Data%20Scientist/Coding/Practice%20Coding/Conditional.ipynb#X12sZmlsZQ%3D%3D?line=1'>2</a>\u001b[0m     \u001b[39mprint\u001b[39m(\u001b[39m'\u001b[39m\u001b[39masabeneh yetayeh lives in finland. he is married\u001b[39m\u001b[39m'\u001b[39m)\n",
      "\u001b[1;31mNameError\u001b[0m: name 'person' is not defined"
     ]
    }
   ],
   "source": [
    "if person['is_marred'] == True and person['country'] =='Finland':\n",
    "    print('asabeneh yetayeh lives in finland. he is married')"
   ]
  },
  {
   "cell_type": "code",
   "execution_count": null,
   "metadata": {},
   "outputs": [],
   "source": []
  }
 ],
 "metadata": {
  "kernelspec": {
   "display_name": "Python 3.10.0 64-bit",
   "language": "python",
   "name": "python3"
  },
  "language_info": {
   "codemirror_mode": {
    "name": "ipython",
    "version": 3
   },
   "file_extension": ".py",
   "mimetype": "text/x-python",
   "name": "python",
   "nbconvert_exporter": "python",
   "pygments_lexer": "ipython3",
   "version": "3.10.0"
  },
  "orig_nbformat": 4,
  "vscode": {
   "interpreter": {
    "hash": "1ca47866375c9e8efc6c4ea03302cd4c4c5daf7f0e220f0f32c5df8d3c27cecb"
   }
  }
 },
 "nbformat": 4,
 "nbformat_minor": 2
}
