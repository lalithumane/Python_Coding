{
 "cells": [
  {
   "cell_type": "markdown",
   "metadata": {},
   "source": [
    "## A regular expression or RegEx is a special text string that helps to find patterns in data. \n",
    "## A RegEx can be used to check if some pattern exists in a different data type. \n",
    "## To use RegEx in python first we should import the RegEx module which is called re.\n",
    "### re.I is a ignore case --> (it ignores case of the sentence and aprint everything )"
   ]
  },
  {
   "cell_type": "code",
   "execution_count": 1,
   "metadata": {},
   "outputs": [],
   "source": [
    "# Searching for All Matches Using match\n",
    "\n",
    "\n",
    "import re"
   ]
  },
  {
   "cell_type": "code",
   "execution_count": 2,
   "metadata": {},
   "outputs": [],
   "source": [
    "string = \"I love my Mother and Father Very Very Much\""
   ]
  },
  {
   "cell_type": "code",
   "execution_count": 8,
   "metadata": {},
   "outputs": [
    {
     "name": "stdout",
     "output_type": "stream",
     "text": [
      "<re.Match object; span=(0, 9), match='I love my'>\n",
      "(0, 9)\n",
      "0 9\n",
      "I love my\n"
     ]
    }
   ],
   "source": [
    "match = re.match(\"I love my\",string,re.I)         # It returns an object with span, and match\n",
    "print(match)                                      # if substring does not match to correct string then it will print None\n",
    "span = match.span()\n",
    "print(span)\n",
    "start,end = span\n",
    "print(start,end)\n",
    "print(string[start:end])"
   ]
  },
  {
   "cell_type": "code",
   "execution_count": 9,
   "metadata": {},
   "outputs": [],
   "source": [
    "# Searching for All Matches Using search\n",
    "\n",
    "import re\n",
    "                                                                                        \n",
    "txt = '''Python is the most beautiful language that a human being has ever created.\n",
    "I recommend python for a first programming language'''"
   ]
  },
  {
   "cell_type": "code",
   "execution_count": 10,
   "metadata": {},
   "outputs": [
    {
     "name": "stdout",
     "output_type": "stream",
     "text": [
      "<re.Match object; span=(100, 105), match='first'>\n"
     ]
    }
   ],
   "source": [
    "search = re.search(\"first\",txt,re.I)\n",
    "print(search)"
   ]
  },
  {
   "cell_type": "code",
   "execution_count": 11,
   "metadata": {},
   "outputs": [
    {
     "name": "stdout",
     "output_type": "stream",
     "text": [
      "(100, 105)\n"
     ]
    }
   ],
   "source": [
    "span = search.span()\n",
    "print(span)"
   ]
  },
  {
   "cell_type": "code",
   "execution_count": 12,
   "metadata": {},
   "outputs": [
    {
     "name": "stdout",
     "output_type": "stream",
     "text": [
      "100 105\n"
     ]
    }
   ],
   "source": [
    "start,end = span\n",
    "print(start,end)"
   ]
  },
  {
   "cell_type": "code",
   "execution_count": 14,
   "metadata": {},
   "outputs": [
    {
     "name": "stdout",
     "output_type": "stream",
     "text": [
      "first\n"
     ]
    }
   ],
   "source": [
    "print(txt[start:end])"
   ]
  },
  {
   "cell_type": "markdown",
   "metadata": {},
   "source": [
    "### As you can see, search is much better than match because it can look for the pattern throughout the text.\n",
    "### Search returns a match object with a first match that was found, otherwise it returns None. \n",
    "### A much better re function is findall. \n",
    "### This function checks for the pattern through the whole string and returns all the matches as a list."
   ]
  },
  {
   "cell_type": "code",
   "execution_count": 15,
   "metadata": {},
   "outputs": [
    {
     "name": "stdout",
     "output_type": "stream",
     "text": [
      "['language', 'language']\n"
     ]
    }
   ],
   "source": [
    "# Searching for All Matches Using findall\n",
    "# findall() returns all the matches as a list\n",
    "\n",
    "import re\n",
    "\n",
    "txt = '''Python is the most beautiful language that a human being has ever created.\n",
    "I recommend python for a first programming language'''\n",
    "\n",
    "match = re.findall(\"language\",txt,re.I)\n",
    "print(match)"
   ]
  },
  {
   "cell_type": "code",
   "execution_count": 18,
   "metadata": {},
   "outputs": [
    {
     "name": "stdout",
     "output_type": "stream",
     "text": [
      "['Python', 'python']\n"
     ]
    }
   ],
   "source": [
    "match2 = re.findall(\"python\",txt,re.I)\n",
    "print(match2)"
   ]
  },
  {
   "cell_type": "markdown",
   "metadata": {},
   "source": [
    "### Since we are using re.I both lowercase and uppercase letters are included. If we do not have the re.I flag, \n",
    "### then we will have to write our pattern differently. Let us check it out:"
   ]
  },
  {
   "cell_type": "code",
   "execution_count": 19,
   "metadata": {},
   "outputs": [
    {
     "name": "stdout",
     "output_type": "stream",
     "text": [
      "['Python', 'python']\n"
     ]
    }
   ],
   "source": [
    "import re\n",
    "\n",
    "txt = '''Python is the most beautiful language that a human being has ever created.\n",
    "I recommend python for a first programming language'''\n",
    "\n",
    "match = re.findall(\"Python|python\",txt)\n",
    "print(match)"
   ]
  },
  {
   "cell_type": "code",
   "execution_count": 21,
   "metadata": {},
   "outputs": [
    {
     "name": "stdout",
     "output_type": "stream",
     "text": [
      "['Python', 'python']\n"
     ]
    }
   ],
   "source": [
    "match = re.findall(\"[Pp]ython\",txt)\n",
    "print(match)"
   ]
  },
  {
   "cell_type": "code",
   "execution_count": 23,
   "metadata": {},
   "outputs": [
    {
     "name": "stdout",
     "output_type": "stream",
     "text": [
      "SQL is the most beautiful language that a human being has ever created.\n",
      "I recommend SQL for a first programming language\n"
     ]
    }
   ],
   "source": [
    "# Replacing a Substring\n",
    "\n",
    "import re\n",
    "\n",
    "txt = '''Python is the most beautiful language that a human being has ever created.\n",
    "I recommend python for a first programming language'''\n",
    "\n",
    "match_replace = re.sub(\"Python|python\",\"SQL\",txt,re.I)         # replacing python with SQL \n",
    "print(match_replace)"
   ]
  },
  {
   "cell_type": "code",
   "execution_count": 26,
   "metadata": {},
   "outputs": [
    {
     "name": "stdout",
     "output_type": "stream",
     "text": [
      "Javascript is the most beautiful language that a human being has ever created.\n",
      "I recommend Javascript for a first programming language\n"
     ]
    }
   ],
   "source": [
    "match_repl = re.sub(\"[Pp]ython\",\"Javascript\",txt,re.I)         # replacing python with Javascript\n",
    "print(match_repl)"
   ]
  },
  {
   "cell_type": "code",
   "execution_count": 27,
   "metadata": {},
   "outputs": [],
   "source": [
    "# Let us add one more example. The following string is really hard to read unless we remove the % symbol. \n",
    "# Replacing the % with an empty string will clean the text.\n",
    "\n",
    "import re\n",
    "\n",
    "txt = '''%I a%m te%%a%%che%r% a%n%d %% I l%o%ve te%ach%ing. \n",
    "T%he%re i%s n%o%th%ing as r%ewarding a%s e%duc%at%i%ng a%n%d e%m%p%ow%er%ing p%e%o%ple.\n",
    "I fo%und te%a%ching m%ore i%n%t%er%%es%ting t%h%an any other %jobs. \n",
    "D%o%es thi%s m%ot%iv%a%te %y%o%u to b%e a t%e%a%cher?'''"
   ]
  },
  {
   "cell_type": "code",
   "execution_count": 33,
   "metadata": {},
   "outputs": [
    {
     "name": "stdout",
     "output_type": "stream",
     "text": [
      "I am teacher and  I love teaching. \n",
      "There is nothing as rewarding as educating and empowering people.\n",
      "I found teaching more interesting than any other jobs. \n",
      "Does this motivate you to be a teacher?\n"
     ]
    }
   ],
   "source": [
    "match_replace = re.sub(\"%\",\"\",txt)               # it is replacing % symbol with space character and printing clean text\n",
    "print(match_replace)"
   ]
  },
  {
   "cell_type": "code",
   "execution_count": 36,
   "metadata": {},
   "outputs": [
    {
     "name": "stdout",
     "output_type": "stream",
     "text": [
      "['I am teacher and  I love teaching.', 'There is nothing as rewarding as educating and empowering people.', 'I found teaching more interesting than any other jobs.', 'Does this motivate you to be a teacher?']\n"
     ]
    }
   ],
   "source": [
    "# Splitting Text Using RegEx Split\n",
    "\n",
    "import re                                                       #  splitting using \\n - end of line symbol\n",
    "                                                                #  it automaically splits string were it was creating new line in the string \n",
    "txt = '''I am teacher and  I love teaching.\n",
    "There is nothing as rewarding as educating and empowering people.\n",
    "I found teaching more interesting than any other jobs.\n",
    "Does this motivate you to be a teacher?'''\n",
    "\n",
    "spil = re.split(\"\\n\",txt)\n",
    "print(spil)"
   ]
  },
  {
   "cell_type": "markdown",
   "metadata": {},
   "source": [
    "## Writing RegEx Patterns\n",
    "## To declare a string variable we use a single or double quote. To declare RegEx variable r''. \n",
    "## The following pattern only identifies apple with lowercase, to make it case insensitive either we should rewrite our pattern or we should add a flag."
   ]
  },
  {
   "cell_type": "code",
   "execution_count": 41,
   "metadata": {},
   "outputs": [
    {
     "name": "stdout",
     "output_type": "stream",
     "text": [
      "['apple']\n",
      "['Apple', 'apple']\n",
      "['Apple', 'apple']\n"
     ]
    }
   ],
   "source": [
    "import re \n",
    "\n",
    "pattern = r'apple'        # searching and printing with the help of pattern and with the help of flag\n",
    "txt = 'Apple and banana are fruits. An old cliche says an apple a day a doctor way has been replaced by a banana a day keeps the doctor far far away.'\n",
    "matches = re.findall(pattern,txt)\n",
    "print(matches)\n",
    "\n",
    "# To make case insensitive adding flag '\n",
    "\n",
    "match = re.findall(pattern,txt,re.I)\n",
    "print(match)\n",
    "\n",
    "\n",
    "# or we can use a set of characters method\n",
    "\n",
    "match = re.findall('[Aa]pple',txt)\n",
    "print(match)"
   ]
  },
  {
   "cell_type": "code",
   "execution_count": 50,
   "metadata": {},
   "outputs": [
    {
     "data": {
      "text/plain": [
       "\"\\nle', 'apple']\\n[]: A set of characters\\n[a-c] means, a or b or c\\n[a-z] means, any letter from a to z\\n[A-Z] means, any character from A to Z\\n[0-3] means, 0 or 1 or 2 or 3\\n[0-9] means any number from 0 to 9\\n[A-Za-z0-9] any single character, that is a to z, A to Z or 0 to 9\\n\\n\\\\: uses to escape special characters\\n\\\\d means: match where the string contains digits (numbers from 0-9)\\n\\\\D means: match where the string does not contain digits\\n\\n. : any character except new line character(\\n)\\n^: starts with\\nr'^substring' eg r'^love', a sentence that starts with a word love\\nr'[^abc] means not a, not b, not c.\\n$: ends with\\nr'substring$' eg r'love$', sentence that ends with a word love\\n*: zero or more times\\nr'[a]*' means a optional or it can occur many times.\\n+: one or more times\\nr'[a]+' means at least once (or more)\\n?: zero or one time\\nr'[a]?' means zero times or once\\n{3}: Exactly 3 characters\\n{3,}: At least 3 characters\\n{3,8}: 3 to 8 characters\\n|: Either or\\nr'apple|banana' means either apple or a banana\\n(): Capture and group\\n\""
      ]
     },
     "execution_count": 50,
     "metadata": {},
     "output_type": "execute_result"
    }
   ],
   "source": [
    "\"\"\"\n",
    "le', 'apple']\n",
    "[]: A set of characters\n",
    "[a-c] means, a or b or c\n",
    "[a-z] means, any letter from a to z\n",
    "[A-Z] means, any character from A to Z\n",
    "[0-3] means, 0 or 1 or 2 or 3\n",
    "[0-9] means any number from 0 to 9\n",
    "[A-Za-z0-9] any single character, that is a to z, A to Z or 0 to 9\n",
    "\n",
    "\\: uses to escape special characters\n",
    "\\d means: match where the string contains digits (numbers from 0-9)\n",
    "\\D means: match where the string does not contain digits\n",
    "\n",
    ". : any character except new line character(\\n)\n",
    "^: starts with\n",
    "r'^substring' eg r'^love', a sentence that starts with a word love\n",
    "r'[^abc] means not a, not b, not c.\n",
    "$: ends with\n",
    "r'substring$' eg r'love$', sentence that ends with a word love\n",
    "*: zero or more times\n",
    "r'[a]*' means a optional or it can occur many times.\n",
    "+: one or more times\n",
    "r'[a]+' means at least once (or more)\n",
    "?: zero or one time\n",
    "r'[a]?' means zero times or once\n",
    "{3}: Exactly 3 characters\n",
    "{3,}: At least 3 characters\n",
    "{3,8}: 3 to 8 characters\n",
    "|: Either or\n",
    "r'apple|banana' means either apple or a banana\n",
    "(): Capture and group\n",
    "\n",
    "\"\"\""
   ]
  },
  {
   "cell_type": "code",
   "execution_count": 47,
   "metadata": {},
   "outputs": [
    {
     "name": "stdout",
     "output_type": "stream",
     "text": [
      "['Apple', 'apple']\n"
     ]
    }
   ],
   "source": [
    "# Square Bracket\n",
    "\n",
    "regex_pattern = r'[Aa]pple' # this square bracket mean either A or a\n",
    "txt = 'Apple and banana are fruits. An old cliche says an apple a day a doctor way has been replaced by a banana a day keeps the doctor far far away.'\n",
    "matches = re.findall(regex_pattern, txt)\n",
    "print(matches)  # ['Apple', 'apple']\n"
   ]
  },
  {
   "cell_type": "code",
   "execution_count": 48,
   "metadata": {},
   "outputs": [
    {
     "name": "stdout",
     "output_type": "stream",
     "text": [
      "['Apple ', ' banana', 'apple ', ' banana']\n"
     ]
    }
   ],
   "source": [
    "pattern = r'[Aa]pple | [Bb]anana' # this square bracket means either A or a and B or b\n",
    "match = re.findall(pattern,txt)\n",
    "print(match)\n",
    "\n",
    "# Using the square bracket and or operator , we manage to extract Apple, apple, Banana and banana."
   ]
  },
  {
   "cell_type": "code",
   "execution_count": 53,
   "metadata": {},
   "outputs": [
    {
     "name": "stdout",
     "output_type": "stream",
     "text": [
      "['6', '2', '0', '1', '9', '8', '2', '0', '2', '1']\n"
     ]
    }
   ],
   "source": [
    "# Escape character(\\) in RegEx\n",
    "\n",
    "regex_pattern = r'\\d'  # d is a special character which means digits\n",
    "txt = 'This regular expression example was made on December 6,  2019 and revised on July 8, 2021'\n",
    "matches = re.findall(regex_pattern, txt)\n",
    "print(matches)  # ['6', '2', '0', '1', '9', '8', '2', '0', '2', '1'], this is not what we want"
   ]
  },
  {
   "cell_type": "code",
   "execution_count": 52,
   "metadata": {},
   "outputs": [
    {
     "name": "stdout",
     "output_type": "stream",
     "text": [
      "['6', '2019', '8', '2021']\n"
     ]
    }
   ],
   "source": [
    "# One or more times(+)\n",
    "\n",
    "regex_pattern = r'\\d+'  # d is a special character which means digits, + mean one or more times\n",
    "txt = 'This regular expression example was made on December 6,  2019 and revised on July 8, 2021'\n",
    "matches = re.findall(regex_pattern, txt)\n",
    "print(matches)  # ['6', '2019', '8', '2021'] - now, this is better!"
   ]
  },
  {
   "cell_type": "code",
   "execution_count": 55,
   "metadata": {},
   "outputs": [
    {
     "name": "stdout",
     "output_type": "stream",
     "text": [
      "['an', 'an', 'an', 'a ', 'ar']\n",
      "['and banana are fruits']\n"
     ]
    }
   ],
   "source": [
    "# Period(.)\n",
    "\n",
    "regex_pattern = r'[a].'  # this square bracket means a and . means any character except new line\n",
    "txt = '''Apple and banana are fruits'''\n",
    "matches = re.findall(regex_pattern, txt)\n",
    "print(matches)  # ['an', 'an', 'an', 'a ', 'ar']\n",
    "\n",
    "regex_pattern = r'[a].+'  # . any character, + any character one or more times \n",
    "matches = re.findall(regex_pattern, txt)\n",
    "print(matches)  # ['and banana are fruits']"
   ]
  },
  {
   "cell_type": "code",
   "execution_count": 56,
   "metadata": {},
   "outputs": [
    {
     "name": "stdout",
     "output_type": "stream",
     "text": [
      "['and banana are fruits']\n"
     ]
    }
   ],
   "source": [
    "# Zero or more times(*)\n",
    "# Zero or many times. The pattern could may not occur or it can occur many times.\n",
    "\n",
    "regex_pattern = r'[a].*'  # . any character, * any character zero or more times \n",
    "txt = '''Apple and banana are fruits'''\n",
    "matches = re.findall(regex_pattern, txt)\n",
    "print(matches)  # ['and banana are fruits']"
   ]
  },
  {
   "cell_type": "code",
   "execution_count": 57,
   "metadata": {},
   "outputs": [
    {
     "name": "stdout",
     "output_type": "stream",
     "text": [
      "['e-mail', 'email', 'Email', 'E-mail']\n"
     ]
    }
   ],
   "source": [
    "# Zero or one time(?)\n",
    "# Zero or one time. The pattern may not occur or it may occur once.\n",
    "\n",
    "txt = '''I am not sure if there is a convention how to write the word e-mail.\n",
    "Some people write it as email others may write it as Email or E-mail.'''\n",
    "regex_pattern = r'[Ee]-?mail'  # ? means here that '-' is optional\n",
    "matches = re.findall(regex_pattern, txt)\n",
    "print(matches)  # ['e-mail', 'email', 'Email', 'E-mail']"
   ]
  },
  {
   "cell_type": "code",
   "execution_count": 61,
   "metadata": {},
   "outputs": [
    {
     "name": "stdout",
     "output_type": "stream",
     "text": [
      "['2019', '2021']\n",
      "['6', '2019', '8', '2021']\n"
     ]
    }
   ],
   "source": [
    "# Quantifier in RegEx\n",
    "# We can specify the length of the substring we are looking for in a text, using a curly bracket. \n",
    "# Let us imagine, we are interested in a substring with a length of 4 characters:\n",
    "\n",
    "txt = 'This regular expression example was made on December 6,  2019 and revised on July 8, 2021'\n",
    "regex_pattern = r'\\d{4}'  # exactly four times\n",
    "matches = re.findall(regex_pattern, txt)\n",
    "print(matches)  # ['2019', '2021']\n",
    "\n",
    "txt = 'This regular expression example was made on December 6,  2019 and revised on July 8, 2021'\n",
    "regex_pattern = r'\\d{1,4}'   # 1 to 4\n",
    "matches = re.findall(regex_pattern, txt)\n",
    "print(matches)  # ['6', '2019', '8', '2021']"
   ]
  },
  {
   "cell_type": "code",
   "execution_count": 62,
   "metadata": {},
   "outputs": [
    {
     "name": "stdout",
     "output_type": "stream",
     "text": [
      "['This']\n"
     ]
    }
   ],
   "source": [
    "# Cart ^ Starts with\n",
    "\n",
    "txt = 'This regular expression example was made on December 6,  2019 and revised on July 8, 2021'\n",
    "regex_pattern = r'^This'  # ^ means starts with\n",
    "matches = re.findall(regex_pattern, txt)\n",
    "print(matches)  # ['This']"
   ]
  },
  {
   "cell_type": "code",
   "execution_count": 63,
   "metadata": {},
   "outputs": [
    {
     "name": "stdout",
     "output_type": "stream",
     "text": [
      "['6,', '2019', '8,', '2021']\n"
     ]
    }
   ],
   "source": [
    "# Negation\n",
    "\n",
    "txt = 'This regular expression example was made on December 6,  2019 and revised on July 8, 2021'\n",
    "regex_pattern = r'[^A-Za-z ]+'  # ^ in set character means negation, not A to Z, not a to z, no space\n",
    "matches = re.findall(regex_pattern, txt)\n",
    "print(matches)  # ['6,', '2019', '8', '2021']"
   ]
  },
  {
   "cell_type": "markdown",
   "metadata": {},
   "source": [
    "## Exercise"
   ]
  },
  {
   "cell_type": "code",
   "execution_count": 73,
   "metadata": {},
   "outputs": [
    {
     "name": "stdout",
     "output_type": "stream",
     "text": [
      "['love', 'love', 'love', 'love', 'love', 'love']\n",
      " total frequant items in this string :- {'love'} 6\n"
     ]
    }
   ],
   "source": [
    "# What is the most frequent word in the following paragraph?\n",
    "\n",
    "import re\n",
    "paragraph = '''I love teaching. If you do not love teaching what else can you love. \n",
    "    I love Python if you do not love something which can give you all the capabilities to develop an application what else can you love.'''\n",
    "\n",
    "match = re.findall(\"love\",paragraph,re.I)\n",
    "print(match)\n",
    "print(\" total frequant items in this string :-\",set(match),len(match))"
   ]
  }
 ],
 "metadata": {
  "kernelspec": {
   "display_name": "Python 3.10.0 64-bit",
   "language": "python",
   "name": "python3"
  },
  "language_info": {
   "codemirror_mode": {
    "name": "ipython",
    "version": 3
   },
   "file_extension": ".py",
   "mimetype": "text/x-python",
   "name": "python",
   "nbconvert_exporter": "python",
   "pygments_lexer": "ipython3",
   "version": "3.10.0"
  },
  "orig_nbformat": 4,
  "vscode": {
   "interpreter": {
    "hash": "1ca47866375c9e8efc6c4ea03302cd4c4c5daf7f0e220f0f32c5df8d3c27cecb"
   }
  }
 },
 "nbformat": 4,
 "nbformat_minor": 2
}
