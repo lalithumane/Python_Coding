{
 "cells": [
  {
   "cell_type": "code",
   "execution_count": 1,
   "metadata": {},
   "outputs": [
    {
     "data": {
      "text/plain": [
       "'\\nClasses and Objects\\nPython is an object oriented programming language. \\nEverything in Python is an object, with its properties and methods. \\nA number, string, list, dictionary, tuple, set etc. \\nused in a program is an object of a corresponding built-in class. We create class to create an object.\\nA class is like an object constructor, or a \"blueprint\" for creating objects. \\nWe instantiate a class to create an object. \\nThe class defines attributes and the behavior of the object, while the object, on the other hand, represents the class.\\nWe have been working with classes and objects right from the beginning of this challenge unknowingly. \\nEvery element in a Python program is an object of a class. Let us check if everything in python is a class:\\n'"
      ]
     },
     "execution_count": 1,
     "metadata": {},
     "output_type": "execute_result"
    }
   ],
   "source": [
    "'''\n",
    "Classes and Objects\n",
    "Python is an object oriented programming language. \n",
    "Everything in Python is an object, with its properties and methods. \n",
    "A number, string, list, dictionary, tuple, set etc. \n",
    "used in a program is an object of a corresponding built-in class. We create class to create an object.\n",
    "A class is like an object constructor, or a \"blueprint\" for creating objects. \n",
    "We instantiate a class to create an object. \n",
    "The class defines attributes and the behavior of the object, while the object, on the other hand, represents the class.\n",
    "We have been working with classes and objects right from the beginning of this challenge unknowingly. \n",
    "Every element in a Python program is an object of a class. Let us check if everything in python is a class:\n",
    "'''"
   ]
  },
  {
   "cell_type": "code",
   "execution_count": 2,
   "metadata": {},
   "outputs": [],
   "source": [
    "\n",
    "class Person:\n",
    "    pass\n",
    "# print(Person)"
   ]
  },
  {
   "cell_type": "markdown",
   "metadata": {},
   "source": [
    "# Creating an Object\n",
    "## We can create an object by calling the class."
   ]
  },
  {
   "cell_type": "code",
   "execution_count": 3,
   "metadata": {},
   "outputs": [
    {
     "name": "stdout",
     "output_type": "stream",
     "text": [
      "<__main__.Person object at 0x00000255D4E2FA60>\n"
     ]
    }
   ],
   "source": [
    "p = Person()           # p is an object for person class\n",
    "print(p)\n"
   ]
  },
  {
   "cell_type": "code",
   "execution_count": 4,
   "metadata": {},
   "outputs": [
    {
     "data": {
      "text/plain": [
       "'\\nClass Constructor\\nIn the examples above, we have created an object from the Person class. \\nHowever, a class without a constructor is not really useful in real applications. \\nLet us use constructor function to make our class more useful. \\nLike the constructor function in Java or JavaScript, Python has also a built-in init() constructor function. \\nThe init constructor function has self parameter which is a reference to the current instance of the class Examples:\\n'"
      ]
     },
     "execution_count": 4,
     "metadata": {},
     "output_type": "execute_result"
    }
   ],
   "source": [
    "'''\n",
    "Class Constructor\n",
    "In the examples above, we have created an object from the Person class. \n",
    "However, a class without a constructor is not really useful in real applications. \n",
    "Let us use constructor function to make our class more useful. \n",
    "Like the constructor function in Java or JavaScript, Python has also a built-in init() constructor function. \n",
    "The init constructor function has self parameter which is a reference to the current instance of the class Examples:\n",
    "'''"
   ]
  },
  {
   "cell_type": "code",
   "execution_count": 5,
   "metadata": {},
   "outputs": [
    {
     "name": "stdout",
     "output_type": "stream",
     "text": [
      "<__main__.Person object at 0x00000255D5910AF0>\n",
      "Lalit\n"
     ]
    }
   ],
   "source": [
    "class Person:\n",
    "    def __init__(self,name):            # __init__ counstructor help to use multiple values in class \n",
    "        self.name = name\n",
    "\n",
    "\n",
    "objec = Person('Lalit')\n",
    "print(objec)\n",
    "print(objec.name)"
   ]
  },
  {
   "cell_type": "code",
   "execution_count": 14,
   "metadata": {},
   "outputs": [],
   "source": [
    "class Details:\n",
    "    def __init__(self,name,surname,country,education,age,height):\n",
    "        self.name = name\n",
    "        self.surname = surname\n",
    "        self.country = country\n",
    "        self.education = education\n",
    "        self.age = age\n",
    "        self.height = height\n",
    "    def display(self):\n",
    "        print(self.name,self.surname,self.height,self.education,self.age,self.height)"
   ]
  },
  {
   "cell_type": "markdown",
   "metadata": {},
   "source": [
    "# Creating object to call class properties"
   ]
  },
  {
   "cell_type": "code",
   "execution_count": 15,
   "metadata": {},
   "outputs": [],
   "source": [
    "object_1 = Details(\"Lalit\",\"Humane\",\"INDIA\",\"BE\",29,5.09)   "
   ]
  },
  {
   "cell_type": "code",
   "execution_count": 16,
   "metadata": {},
   "outputs": [
    {
     "name": "stdout",
     "output_type": "stream",
     "text": [
      "Lalit\n",
      "Humane\n",
      "INDIA\n",
      "29\n",
      "5.09\n"
     ]
    }
   ],
   "source": [
    "print(object_1.name)\n",
    "print(object_1.surname)\n",
    "print(object_1.country)\n",
    "print(object_1.age)\n",
    "print(object_1.height)"
   ]
  },
  {
   "cell_type": "markdown",
   "metadata": {},
   "source": [
    "# Object Methods\n",
    "## Objects can have methods. The methods are functions which belong to the object."
   ]
  },
  {
   "cell_type": "code",
   "execution_count": 20,
   "metadata": {},
   "outputs": [
    {
     "name": "stdout",
     "output_type": "stream",
     "text": [
      "Lalit Humane 5.09 BE 29 5.09\n"
     ]
    }
   ],
   "source": [
    "object_1.display()        #we can access various declaired methods in a class with the help of object"
   ]
  },
  {
   "cell_type": "code",
   "execution_count": 25,
   "metadata": {},
   "outputs": [],
   "source": [
    "class Person_Detail:\n",
    "    def __init__(self,name,surname,country,city,age,system):\n",
    "        self.name = name\n",
    "        self.surname = surname\n",
    "        self.country = country\n",
    "        self.city = city\n",
    "        self.age = age\n",
    "        self.system = system\n",
    "    def display_info(self):\n",
    "        return f'my name is {self.name} {self.surname} , i am from {self.country} and {self.city} city my age is {self.age} and i have {self.system} system'"
   ]
  },
  {
   "cell_type": "code",
   "execution_count": 26,
   "metadata": {},
   "outputs": [],
   "source": [
    "object_2 = Person_Detail(\"Lalit\",\"Humane\",\"INDIA\",\"Amravti\",29,\"HP Pavilion\")"
   ]
  },
  {
   "cell_type": "code",
   "execution_count": 27,
   "metadata": {},
   "outputs": [
    {
     "name": "stdout",
     "output_type": "stream",
     "text": [
      "Lalit\n"
     ]
    }
   ],
   "source": [
    "print(object_2.name)"
   ]
  },
  {
   "cell_type": "code",
   "execution_count": 28,
   "metadata": {},
   "outputs": [
    {
     "name": "stdout",
     "output_type": "stream",
     "text": [
      "my name is Lalit Humane , i am from INDIA and Amravti city my age is 29 and i have HP Pavilion system\n"
     ]
    }
   ],
   "source": [
    "print(object_2.display_info())"
   ]
  },
  {
   "cell_type": "markdown",
   "metadata": {},
   "source": [
    "# Object Default Methods\n",
    "## Sometimes, you may want to have a default values for your object methods. \n",
    "## If we give default values for the parameters in the constructor, \n",
    "## we can avoid errors when we call or instantiate our class without parameters. Let's see how it looks:"
   ]
  },
  {
   "cell_type": "code",
   "execution_count": 33,
   "metadata": {},
   "outputs": [],
   "source": [
    "class Person_Detail:\n",
    "    def __init__(self,name =\"Lalit\",middle_name =\"Gajanan\",surname =\"Humane\",age =29,country =\"INDIA\",intrest = \"Data Science\"):\n",
    "        self.name = name\n",
    "        self.middle_name = middle_name\n",
    "        self.surname = surname\n",
    "        self.age = age\n",
    "        self.country = country\n",
    "        self.intrest = intrest\n",
    "    def show_details(self):\n",
    "        return f'my name is {self.name} {self.middle_name} {self.surname} and i am {self.age} years old , and i live in {self.country} and i want to work in {self.intrest}'"
   ]
  },
  {
   "cell_type": "code",
   "execution_count": 38,
   "metadata": {},
   "outputs": [
    {
     "name": "stdout",
     "output_type": "stream",
     "text": [
      "Lalit\n",
      "INDIA\n"
     ]
    }
   ],
   "source": [
    "obj1 = Person_Detail()\n",
    "print(obj1.name)\n",
    "print(obj1.country)"
   ]
  },
  {
   "cell_type": "code",
   "execution_count": 40,
   "metadata": {},
   "outputs": [
    {
     "name": "stdout",
     "output_type": "stream",
     "text": [
      "my name is Lalit Gajanan Humane and i am 29 years old , and i live in INDIA and i want to work in Data Science\n"
     ]
    }
   ],
   "source": [
    "print(obj1.show_details())"
   ]
  },
  {
   "cell_type": "markdown",
   "metadata": {},
   "source": [
    "# we can change default value from class constructor if we want to update data and print result with new details"
   ]
  },
  {
   "cell_type": "code",
   "execution_count": 41,
   "metadata": {},
   "outputs": [],
   "source": [
    "obj2 = Person_Detail(\"Suraj\",\"Jalandar\",\"Saudagare\",29,\"INDIA\",\"MSBI\")"
   ]
  },
  {
   "cell_type": "code",
   "execution_count": 42,
   "metadata": {},
   "outputs": [
    {
     "name": "stdout",
     "output_type": "stream",
     "text": [
      "my name is Suraj Jalandar Saudagare and i am 29 years old , and i live in INDIA and i want to work in MSBI\n"
     ]
    }
   ],
   "source": [
    "print(obj2.show_details())"
   ]
  },
  {
   "cell_type": "markdown",
   "metadata": {},
   "source": [
    "# Method to Modify Class Default Values\n",
    "## In the example below, the person class, all the constructor parameters have default values. \n",
    "## In addition to that, we have skills parameter, which we can access using a method. Let us create add_skill method to add skills to the skills list"
   ]
  },
  {
   "cell_type": "code",
   "execution_count": 5,
   "metadata": {},
   "outputs": [],
   "source": [
    "class Person_details():\n",
    "    def __init__(self,name =\"Lalit\",surname =\"Humane\",age=29,country =\"INDIA\",city=\"Amravati\"):\n",
    "        self.name = name\n",
    "        self.surname = surname\n",
    "        self.age = age\n",
    "        self.country = country\n",
    "        self.city = city\n",
    "        self.skills = []\n",
    "\n",
    "    def show_details(self):\n",
    "        return f' my name is {self.name} {self.surname} my age is {self.age} and i live in {self.country} {self.city}'\n",
    "\n",
    "    def add(self,skills):           # we can use multiple bulit in functions in custom class\n",
    "        self.skills.append(skills)   # ex-> append() built in function used in list data strucure        \n",
    "    def inser(self,skills):\n",
    "        self.skills.insert(0-9,skills)   # ex-> insert() built in function used in list data structure \n",
    "\n",
    "    def prnt_info(self):\n",
    "        print(\" my name is {} {} , my age is {} and i live in {} {} i also have some skills which are ==> {}\".format(self.name,self.surname,self.age,self.country,self.city,self.skills))"
   ]
  },
  {
   "cell_type": "code",
   "execution_count": 6,
   "metadata": {},
   "outputs": [
    {
     "name": "stdout",
     "output_type": "stream",
     "text": [
      " my name is Lalit Humane my age is 29 and i live in INDIA Amravati\n",
      " my name is Lalit Humane , my age is 29 and i live in INDIA Amravati i also have some skills which are ==> ['MSBI', 'My SQl', 'Python programing language(Numpy,Pandas)']\n",
      "['MSBI', 'My SQl', 'Python programing language(Numpy,Pandas)']\n"
     ]
    }
   ],
   "source": [
    "obj = Person_details()\n",
    "print(obj.show_details())\n",
    "obj.add(\"Python programing language(Numpy,Pandas)\")\n",
    "obj.inser(\"My SQl\")\n",
    "obj.inser(\"MSBI\")\n",
    "obj1 = obj.prnt_info()\n",
    "print(obj.skills)\n"
   ]
  },
  {
   "cell_type": "markdown",
   "metadata": {},
   "source": [
    "# Inheritance\n",
    "## Using inheritance we can reuse parent class code. Inheritance allows us to define a class that inherits all the methods and properties from parent class. \n",
    "## The parent class or super or base class is the class which gives all the methods and properties. \n",
    "## Child class is the class that inherits from another or parent class. Let us create a student class by inheriting from person class."
   ]
  },
  {
   "cell_type": "code",
   "execution_count": 8,
   "metadata": {},
   "outputs": [],
   "source": [
    "class Family(Person_details):        # we are inheriting all properties from Person_Details class\n",
    "    pass"
   ]
  },
  {
   "cell_type": "markdown",
   "metadata": {},
   "source": [
    "# in our case 'Person_Details' is a parent class and 'Family' is a child class"
   ]
  },
  {
   "cell_type": "code",
   "execution_count": 11,
   "metadata": {},
   "outputs": [
    {
     "name": "stdout",
     "output_type": "stream",
     "text": [
      " my name is Namrata Humane , my age is 25 and i live in INDIA Amravati i also have some skills which are ==> []\n",
      "None\n",
      " my name is Namrata Humane , my age is 25 and i live in INDIA Amravati i also have some skills which are ==> ['Cooking']\n",
      "None\n"
     ]
    }
   ],
   "source": [
    "o1 = Family(\"Namrata\",\"Humane\",25,\"INDIA\",\"Amravati\")           # Accessing all methods from Person_Details class\n",
    "print(o1.prnt_info())\n",
    "o1.add(\"Cooking\")\n",
    "print(o1.prnt_info())"
   ]
  },
  {
   "cell_type": "code",
   "execution_count": 13,
   "metadata": {},
   "outputs": [
    {
     "name": "stdout",
     "output_type": "stream",
     "text": [
      " my name is Anita Humane , my age is 52 and i live in INDIA Amravati i also have some skills which are ==> ['Love for Kids']\n",
      "None\n"
     ]
    }
   ],
   "source": [
    "o2 = Family(\"Anita\",\"Humane\",52,\"INDIA\",\"Amravati\")\n",
    "o2.add(\"Love for Kids\")\n",
    "print(o2.prnt_info())"
   ]
  },
  {
   "cell_type": "markdown",
   "metadata": {},
   "source": [
    "## We did not call the init() constructor in the child class. \n",
    "## If we didn't call it then we can still access all the properties from the parent. \n",
    "## But if we do call the constructor we can access the parent properties by calling super.\n",
    "## We can add a new method to the child or we can override the parent class methods by creating the same method name in the child class. \n",
    "## When we add the init() function, the child class will no longer inherit the parent's init() function.\n",
    "\n",
    "# Overriding parent method"
   ]
  },
  {
   "cell_type": "code",
   "execution_count": 17,
   "metadata": {},
   "outputs": [],
   "source": [
    "# we can overide parent class methods with the help of using another constructor in child class \n",
    "\n",
    "\n",
    "class Family(Person_details):\n",
    "    def __init__(self,name = \"Gajanan\",surname = \"Humane\",age = 52,Country = \"INDIA\",city = \"Amravati\",Gender = \"Male\"): # we are providing another constructor in child class\n",
    "        self.Gender = Gender     # we can add new parameter in child constructor \n",
    "        super().__init__(name,surname,age,Country,city) # we can use super() function so we can directly inherit all properties from parent class \n",
    "    def person_info(self):\n",
    "        Gender = 'He' if self.Gender == 'Male' else 'She'\n",
    "        return f' {self.name} {self.surname} is {self.age} years old. {Gender} lives in {self.city}, {self.country}.'\n"
   ]
  },
  {
   "cell_type": "code",
   "execution_count": 18,
   "metadata": {},
   "outputs": [
    {
     "name": "stdout",
     "output_type": "stream",
     "text": [
      " my name is Gajanan Humane , my age is 52 and i live in INDIA Amravati i also have some skills which are ==> []\n"
     ]
    },
    {
     "data": {
      "text/plain": [
       "' Gajanan Humane is 52 years old. He lives in Amravati, INDIA.'"
      ]
     },
     "execution_count": 18,
     "metadata": {},
     "output_type": "execute_result"
    }
   ],
   "source": [
    "o3 = Family()\n",
    "o3.prnt_info()\n",
    "o3.person_info()"
   ]
  },
  {
   "cell_type": "markdown",
   "metadata": {},
   "source": [
    "### We can use super() built-in function or the parent name Person to automatically inherit the methods and properties from its parent. \n",
    "### In the example above we override the parent method. \n",
    "### The child method has a different feature, it can identify, if the gender is male or female and assign the proper pronoun(He/She)."
   ]
  },
  {
   "cell_type": "code",
   "execution_count": null,
   "metadata": {},
   "outputs": [],
   "source": []
  }
 ],
 "metadata": {
  "kernelspec": {
   "display_name": "Python 3.9.12 ('base')",
   "language": "python",
   "name": "python3"
  },
  "language_info": {
   "codemirror_mode": {
    "name": "ipython",
    "version": 3
   },
   "file_extension": ".py",
   "mimetype": "text/x-python",
   "name": "python",
   "nbconvert_exporter": "python",
   "pygments_lexer": "ipython3",
   "version": "3.9.12"
  },
  "orig_nbformat": 4,
  "vscode": {
   "interpreter": {
    "hash": "cfd533884ffcf84c58a64eef57d58326028fe1b554a7f12b096ff81f446a9acc"
   }
  }
 },
 "nbformat": 4,
 "nbformat_minor": 2
}
